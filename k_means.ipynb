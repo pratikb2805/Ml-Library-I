{
 "cells": [
  {
   "cell_type": "code",
   "execution_count": 12,
   "metadata": {},
   "outputs": [],
   "source": [
    "import numpy as np\n",
    "import pandas as pd\n",
    "import matplotlib.pyplot as plt\n",
    "import csv\n",
    "\n",
    "class K_Means:\n",
    "    def __init__(self,data,k):\n",
    "        self.data=np.array(data)\n",
    "        self.k=int(k)\n",
    "        self.m=self.data.shape[0]\n",
    "        try:\n",
    "            self.col=self.data.shape[1]\n",
    "        except:\n",
    "            self.col=1\n",
    "        \n",
    "        ma=np.max(self.data)\n",
    "        mi=np.min(self.data)\n",
    "        self.centre=np.random.randn(self.k,self.col)*(ma-mi)\n",
    "        \n",
    "   \n",
    "\n",
    "    def min_ind(self,x):\n",
    "        k=np.where(x==np.ndarray.min(x))\n",
    "        k1=k[0]\n",
    "        return k1\n",
    "    def li_init(self):\n",
    "        li=[]\n",
    "        for i in range(self.k):\n",
    "            li.append([ ])\n",
    "        self.li=li\n",
    "        \n",
    "\n",
    "    def cluster(self):\n",
    "        for i in range(self.m):\n",
    "            di=[]\n",
    "            for j in range(self.k):\n",
    "                d=np.mean(np.square(self.data[i,:]-self.centre[j,:]))\n",
    "                di.append(d)\n",
    "            di=np.array(di)\n",
    "            ind=int(np.argmin(di))\n",
    "            self.li[ind].append(self.data[i,:])\n",
    "\n",
    "    def calc_centroid(self):\n",
    "        for i in range(self.k):\n",
    "            self.centre[i,:]=np.mean(np.array(self.li[i]), axis=0)\n",
    "\n",
    "    def train(self, epoch):\n",
    "        for i in range(int(epoch)):\n",
    "            self.li_init()\n",
    "            self.cluster()\n",
    "            self.calc_centroid()\n",
    "       \n",
    "        return tuple(map(tuple,self.centre))\n",
    "    "
   ]
  },
  {
   "cell_type": "code",
   "execution_count": 13,
   "metadata": {},
   "outputs": [],
   "source": [
    "data= pd.read_csv(\"mnist_train_small.csv\", header=None, sep=',' )"
   ]
  },
  {
   "cell_type": "code",
   "execution_count": 45,
   "metadata": {},
   "outputs": [],
   "source": [
    "model=K_Means(data, 10)  ##object declaration"
   ]
  },
  {
   "cell_type": "code",
   "execution_count": null,
   "metadata": {},
   "outputs": [],
   "source": [
    "model.train(100)"
   ]
  },
  {
   "cell_type": "code",
   "execution_count": 39,
   "metadata": {},
   "outputs": [],
   "source": [
    "data=data/255\n"
   ]
  },
  {
   "cell_type": "code",
   "execution_count": 42,
   "metadata": {},
   "outputs": [
    {
     "data": {
      "text/plain": [
       "11228"
      ]
     },
     "execution_count": 42,
     "metadata": {},
     "output_type": "execute_result"
    }
   ],
   "source": [
    "len(model.li[0])  #length of first cluster"
   ]
  },
  {
   "cell_type": "markdown",
   "metadata": {},
   "source": [
    "## K_Means"
   ]
  },
  {
   "cell_type": "code",
   "execution_count": 24,
   "metadata": {},
   "outputs": [],
   "source": [
    "test= np.random.randn(100, 2)"
   ]
  },
  {
   "cell_type": "code",
   "execution_count": 25,
   "metadata": {},
   "outputs": [],
   "source": [
    "clusters = K_Means(test, 2)"
   ]
  },
  {
   "cell_type": "code",
   "execution_count": 27,
   "metadata": {},
   "outputs": [
    {
     "data": {
      "text/plain": [
       "((-0.9127293642217804, -0.2858489132985302),\n",
       " (0.6236624358556576, -0.12233147132799048))"
      ]
     },
     "execution_count": 27,
     "metadata": {},
     "output_type": "execute_result"
    }
   ],
   "source": [
    "clusters.train(50)"
   ]
  },
  {
   "cell_type": "code",
   "execution_count": 23,
   "metadata": {},
   "outputs": [
    {
     "data": {
      "text/plain": [
       "array([[0.  , 0.01],\n",
       "       [0.02, 0.03],\n",
       "       [0.04, 0.05],\n",
       "       [0.06, 0.07],\n",
       "       [0.08, 0.09],\n",
       "       [0.1 , 0.11],\n",
       "       [0.12, 0.13],\n",
       "       [0.14, 0.15],\n",
       "       [0.16, 0.17],\n",
       "       [0.18, 0.19],\n",
       "       [0.2 , 0.21],\n",
       "       [0.22, 0.23],\n",
       "       [0.24, 0.25],\n",
       "       [0.26, 0.27],\n",
       "       [0.28, 0.29],\n",
       "       [0.3 , 0.31],\n",
       "       [0.32, 0.33],\n",
       "       [0.34, 0.35],\n",
       "       [0.36, 0.37],\n",
       "       [0.38, 0.39],\n",
       "       [0.4 , 0.41],\n",
       "       [0.42, 0.43],\n",
       "       [0.44, 0.45],\n",
       "       [0.46, 0.47],\n",
       "       [0.48, 0.49],\n",
       "       [0.5 , 0.51],\n",
       "       [0.52, 0.53],\n",
       "       [0.54, 0.55],\n",
       "       [0.56, 0.57],\n",
       "       [0.58, 0.59],\n",
       "       [0.6 , 0.61],\n",
       "       [0.62, 0.63],\n",
       "       [0.64, 0.65],\n",
       "       [0.66, 0.67],\n",
       "       [0.68, 0.69],\n",
       "       [0.7 , 0.71],\n",
       "       [0.72, 0.73],\n",
       "       [0.74, 0.75],\n",
       "       [0.76, 0.77],\n",
       "       [0.78, 0.79],\n",
       "       [0.8 , 0.81],\n",
       "       [0.82, 0.83],\n",
       "       [0.84, 0.85],\n",
       "       [0.86, 0.87],\n",
       "       [0.88, 0.89],\n",
       "       [0.9 , 0.91],\n",
       "       [0.92, 0.93],\n",
       "       [0.94, 0.95],\n",
       "       [0.96, 0.97],\n",
       "       [0.98, 0.99]])"
      ]
     },
     "execution_count": 23,
     "metadata": {},
     "output_type": "execute_result"
    }
   ],
   "source": [
    "array1="
   ]
  },
  {
   "cell_type": "code",
   "execution_count": null,
   "metadata": {},
   "outputs": [],
   "source": []
  }
 ],
 "metadata": {
  "kernelspec": {
   "display_name": "Python 3",
   "language": "python",
   "name": "python3"
  },
  "language_info": {
   "codemirror_mode": {
    "name": "ipython",
    "version": 3
   },
   "file_extension": ".py",
   "mimetype": "text/x-python",
   "name": "python",
   "nbconvert_exporter": "python",
   "pygments_lexer": "ipython3",
   "version": "3.7.4"
  }
 },
 "nbformat": 4,
 "nbformat_minor": 4
}
