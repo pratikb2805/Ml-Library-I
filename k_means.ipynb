{
 "cells": [
  {
   "cell_type": "code",
   "execution_count": 43,
   "metadata": {},
   "outputs": [],
   "source": [
    "import numpy as np\n",
    "import pandas as pd\n",
    "import matplotlib.pyplot as plt\n",
    "import csv\n",
    "\n",
    "class K_Means:\n",
    "    def __init__(self,data,k):\n",
    "        self.data=np.array(data)\n",
    "        self.k=int(k)\n",
    "        self.m=self.data.shape[0]\n",
    "        try:\n",
    "            self.col=self.data.shape[1]\n",
    "        except:\n",
    "            self.col=1\n",
    "        \n",
    "        ma=np.max(self.data)\n",
    "        mi=np.min(self.data)\n",
    "        self.centre=np.random.randn(self.k,self.col)*(ma-mi)\n",
    "        \n",
    "   \n",
    "\n",
    "    def min_ind(self,x):\n",
    "        k=np.where(x==np.ndarray.min(x))\n",
    "        k1=k[0]\n",
    "        return k1\n",
    "    def li_init(self):\n",
    "        li=[]\n",
    "        for i in range(self.k):\n",
    "            li.append([ ])\n",
    "        self.li=li\n",
    "        \n",
    "\n",
    "    def cluster(self):\n",
    "        for i in range(self.m):\n",
    "            di=[]\n",
    "            for j in range(self.k):\n",
    "                d=np.mean(np.square(self.data[i,:]-self.centre[j,:]))\n",
    "                di.append(d)\n",
    "            di=np.array(di)\n",
    "            ind=int(np.argmin(di))\n",
    "            self.li[ind].append(self.data[i,:])\n",
    "\n",
    "    def calc_centroid(self):\n",
    "        for i in range(self.k):\n",
    "            self.centre[i,:]=np.mean(np.array(self.li[i]), axis=0)\n",
    "\n",
    "    def train(self, epoch):\n",
    "        for i in range(int(epoch)):\n",
    "            self.li_init()\n",
    "            self.cluster()\n",
    "            self.calc_centroid()\n",
    "       \n",
    "        return tuple(map(tuple,self.centre))\n",
    "    "
   ]
  },
  {
   "cell_type": "code",
   "execution_count": 44,
   "metadata": {},
   "outputs": [],
   "source": [
    "data= pd.read_csv(\"mnist_train_small.csv\", header=None, sep=',' )"
   ]
  },
  {
   "cell_type": "code",
   "execution_count": 45,
   "metadata": {},
   "outputs": [],
   "source": [
    "model=K_Means(data, 10)  ##object declaration"
   ]
  },
  {
   "cell_type": "code",
   "execution_count": null,
   "metadata": {},
   "outputs": [],
   "source": [
    "model.train(100)"
   ]
  },
  {
   "cell_type": "code",
   "execution_count": 39,
   "metadata": {},
   "outputs": [],
   "source": [
    "data=data/255\n"
   ]
  },
  {
   "cell_type": "code",
   "execution_count": 42,
   "metadata": {},
   "outputs": [
    {
     "data": {
      "text/plain": [
       "11228"
      ]
     },
     "execution_count": 42,
     "metadata": {},
     "output_type": "execute_result"
    }
   ],
   "source": [
    "len(model.li[0])  #length of first cluster"
   ]
  },
  {
   "cell_type": "code",
   "execution_count": null,
   "metadata": {},
   "outputs": [],
   "source": []
  }
 ],
 "metadata": {
  "kernelspec": {
   "display_name": "Python 3",
   "language": "python",
   "name": "python3"
  },
  "language_info": {
   "codemirror_mode": {
    "name": "ipython",
    "version": 3
   },
   "file_extension": ".py",
   "mimetype": "text/x-python",
   "name": "python",
   "nbconvert_exporter": "python",
   "pygments_lexer": "ipython3",
   "version": "3.7.4"
  }
 },
 "nbformat": 4,
 "nbformat_minor": 4
}
