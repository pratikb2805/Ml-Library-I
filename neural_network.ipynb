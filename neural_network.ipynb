{
  "nbformat": 4,
  "nbformat_minor": 0,
  "metadata": {
    "kernelspec": {
      "display_name": "Python 3",
      "language": "python",
      "name": "python3"
    },
    "language_info": {
      "codemirror_mode": {
        "name": "ipython",
        "version": 3
      },
      "file_extension": ".py",
      "mimetype": "text/x-python",
      "name": "python",
      "nbconvert_exporter": "python",
      "pygments_lexer": "ipython3",
      "version": "3.7.4"
    },
    "colab": {
      "name": "neural_network.ipynb",
      "provenance": []
    }
  },
  "cells": [
    {
      "cell_type": "code",
      "metadata": {
        "id": "AXvFp7eDkZ3c",
        "colab_type": "code",
        "colab": {}
      },
      "source": [
        "\n",
        "import numpy as np\n",
        "import pandas as pd\n",
        "import matplotlib.pyplot as plt\n",
        "import csv\n",
        "import warnings\n",
        "np.seterr( over='ignore' )\n",
        "\n",
        "def fxn():\n",
        "    warnings.warn(\"deprecated\", DeprecationWarning)\n",
        "\n",
        "with warnings.catch_warnings():\n",
        "    warnings.simplefilter(\"ignore\")\n",
        "    fxn()\n",
        "\n",
        "class layers:\n",
        "    def __init__(self,neu,r,c):\n",
        "        self.neu=int(neu)\n",
        "        self.wt=np.random.randn(r,c)\n",
        "        self.bias=np.random.randn(self.neu)\n",
        "\n",
        "class network:\n",
        "    def __init__(self,data_in,data_out,layers_list,l_rate=0.001):\n",
        "        self.x=np.array(data_in)\n",
        "        self.y=np.array(data_out)    \n",
        "        xx=np.array_split(self.x.T,2)\n",
        "        self.xt=xx[0].T\n",
        "        self.xc=xx[1].T\n",
        "        yy=np.array_split(self.y.T,2)\n",
        "        self.yt=yy[0].T\n",
        "        self.yc=yy[1].T \n",
        "        self.l=int(len(li))\n",
        "        self.ly=layers_list\n",
        "        self.l_rate= float(l_rate)\n",
        "        try:\n",
        "            self.n=self.xt.shape[1]\n",
        "        except:\n",
        "            self.n=self.xt.shape[0]\n",
        "        self.m=int(self.n/100)\n",
        "        self.x_split=np.array_split(self.xt.T,self.m)\n",
        "        self.y_split=np.array_split(self.yt.T,self.m)\n",
        "     \n",
        "    def sigm(self,x):\n",
        "        x = np.clip( x, -30, 30 )\n",
        "        return 1/(1+np.e**-x)\n",
        "\n",
        "\n",
        "    def der_sigm(self,x):\n",
        "        return sigm(x)/(1-sigm(x))\n",
        "\n",
        "    def forward(self):\n",
        "        for i in range(self.l):\n",
        "            self.ly[i].z=np.empty((self.ly[i].neu,self.xt.shape[1]),dtype=np.float64)\n",
        "            self.ly[i].a=np.empty((self.ly[i].neu,self.xt.shape[1]),dtype=np.float64)\n",
        "\n",
        "        for i in range(self.l):\n",
        "            if i==0:\n",
        "                for j in range(int(self.ly[i].neu)):\n",
        "                    self.ly[i].z[j,:]=np.dot(self.ly[i].wt,self.xt)[j,:] +self.ly[i].bias[j]              \n",
        "            else:\n",
        "                for j in range(int(self.ly[i].neu)):\n",
        "                    self.ly[i].z[j,:]=np.dot(self.ly[i].wt,self.ly[i-1].a)[j,:] + self.ly[i].bias[j]\n",
        "            self.ly[i].a=self.sigm(self.ly[i].z)\n",
        "    \n",
        "    def cost(self):\n",
        "        return np.sum((np.dot(self.yt,np.log(self.ly[-1].a).T))+ np.dot( 1-self.yt,np.log(1-self.ly[-1].a).T ))\n",
        "    \n",
        "    def backprop(self):\n",
        "        for i in range(self.l-1, -1, -1):\n",
        "            if i!=self.l-1:\n",
        "                self.ly[i].error=np.dot(self.ly[i+1].wt.T, self.ly[i+1].a)\n",
        "            else:\n",
        "                self.ly[i].error=self.ly[i].a-self.yt\n",
        "    \n",
        "    def update(self):\n",
        "        for i in range(self.l-1, -1, -1):\n",
        "            if i!=0:\n",
        "                temp= np.dot(self.ly[i].error,self.ly[i-1].a.T)\n",
        "            else:\n",
        "                temp= np.dot(self.ly[i].error,self.xt.T)            \n",
        "            temp_bias= np.mean(self.ly[i].error, axis=1)\n",
        "            self.ly[i].wt=self.ly[i].wt-temp*self.l_rate\n",
        "            self.ly[i].bias=self.ly[i].bias-np.ndarray.flatten(temp_bias)*self.l_rate\n",
        "\n",
        "    def train(self,epoch):\n",
        "        for j in range(int(epoch)):\n",
        "            self.forward()\n",
        "            self.backprop()\n",
        "            self.update()\n",
        "\n",
        "        \n",
        "\n",
        "    def implement(self,x_data):            # just one sample at a time\n",
        "        x_data=np.array(x_data)/100\n",
        "        l=int(x_data.shape[0])\n",
        "        x_data=np.expand_dims(x_data,0)\n",
        "        x_data=x_data.T\n",
        "        self.xi=x_data\n",
        "        for i in range(self.l):\n",
        "            if i==0:\n",
        "                self.ly[i].z=np.dot(self.ly[i].wt,x_data)+self.ly[i].bias\n",
        "                self.ly[i].a=self.sigm( self.ly[i].z)\n",
        "            else:\n",
        "                self.ly[i].z=np.dot(self.ly[i].wt,self.ly[i-1].a)+self.ly[i].bias\n",
        "                self.ly[i].a=self.sigm(self.ly[i].z)\n",
        "        print(self.ly[-1].a)\n",
        "\n",
        "    def train2(self):\n",
        "        self.forward()\n",
        "        self.backprop()\n",
        "        self.update()\n",
        "        while np.mean(np.abs(self.ly[-1].error))>(0.3):\n",
        "            self.forward()\n",
        "            self.backprop()\n",
        "            self.update()\n",
        "\n",
        "    def test(self, data_in, data_out):\n",
        "        self.data_in= np.array(data_in)\n",
        "        self.data_out= np.arra(data_out)\n",
        "        for i in range(self.l):\n",
        "            self.ly[i].z_test=np.empty((self.ly[i].neu,self.data_in.shape[1]),dtype=np.float64)\n",
        "            self.ly[i].a_test=np.empty((self.ly[i].neu,self.data_in.shape[1]),dtype=np.float64)\n",
        "\n",
        "        for i in range(self.l):\n",
        "            if i==0:\n",
        "                for j in range(int(self.ly[i].neu)):\n",
        "                    self.ly[i].z_test[j,:]=np.dot(self.ly[i].wt,self.data_in)[j,:] +self.ly[i].bias[j]              \n",
        "            else:\n",
        "                for j in range(int(self.ly[i].neu)):\n",
        "                    self.ly[i].z_test[j,:]=np.dot(self.ly[i].wt,self.ly[i-1].a_test)[j,:] + self.ly[i].bias[j]\n",
        "            self.ly[i].a_test=self.sigm(self.ly[i].z_test)\n",
        "\n",
        "        error=np.mean(np.abs(self.data_out-self.ly[-1].a_test))\n",
        "        return 100*(1-error)\n",
        "\n"
      ],
      "execution_count": 0,
      "outputs": []
    },
    {
      "cell_type": "code",
      "metadata": {
        "id": "Z8D_6SpAkZ3f",
        "colab_type": "code",
        "colab": {}
      },
      "source": [
        "\n",
        "data=pd.read_csv(\"/content/mnist_train_small.csv\",header=None)\n",
        "data.dropna()\n",
        "d=np.array(data)\n",
        "y=d[:,[0]]\n",
        "x=np.delete(d,0,1)/255\n",
        "z=np.eye(10)\n",
        "yy=np.empty((y.shape[0],10),dtype=np.float64)\n",
        "for i in range(y.shape[0]):\n",
        "    for j in range(10):\n",
        "        if y[i]==j:\n",
        "            yy[i,:]=z[j,:]\n",
        "        else:\n",
        "            pass"
      ],
      "execution_count": 0,
      "outputs": []
    },
    {
      "cell_type": "code",
      "metadata": {
        "id": "CBRFJt4bkZ3h",
        "colab_type": "code",
        "colab": {}
      },
      "source": [
        "li=[]\n",
        "li.append(layers(10,10,784))\n",
        "li.append(layers(10,10,10))\n",
        "li.append(layers(10,10,10))\n",
        "li.append(layers(10,10,10))\n",
        "li.append(layers(10,10,10))\n",
        "li.append(layers(10,10,10))\n"
      ],
      "execution_count": 0,
      "outputs": []
    },
    {
      "cell_type": "code",
      "metadata": {
        "id": "vv_jV_kbkZ3i",
        "colab_type": "code",
        "colab": {}
      },
      "source": [
        "model=network(x.T,yy.T,li)\n"
      ],
      "execution_count": 0,
      "outputs": []
    },
    {
      "cell_type": "markdown",
      "metadata": {
        "id": "38hz-OahkZ3k",
        "colab_type": "text"
      },
      "source": [
        "model.forward()\n",
        "\n",
        "```\n",
        "`# This is formatted as code`\n",
        "```\n",
        "\n",
        "\n",
        "model.backprop()\n",
        "model.update()\n",
        "while np.mean(np.abs(model.ly[-1].error))>0.25:\n",
        "     model.train(50)"
      ]
    },
    {
      "cell_type": "code",
      "metadata": {
        "id": "I1BIzfKUnIMJ",
        "colab_type": "code",
        "colab": {}
      },
      "source": [
        "model.backprop()\n",
        "model.update()\n",
        "while np.mean(np.abs(model.ly[-1].error))>0.12:\n",
        "     model.train(50)"
      ],
      "execution_count": 0,
      "outputs": []
    },
    {
      "cell_type": "code",
      "metadata": {
        "id": "n0UDo4cUnKZC",
        "colab_type": "code",
        "colab": {}
      },
      "source": [
        "weight=[]\n",
        "for i in range(model.l):\n",
        "    weight.append(model.ly[i].wt)"
      ],
      "execution_count": 0,
      "outputs": []
    },
    {
      "cell_type": "code",
      "metadata": {
        "id": "66Z5--l4nKP1",
        "colab_type": "code",
        "colab": {}
      },
      "source": [
        "\n",
        "data2 =pd.read_csv(\"/content/sample_data/mnist_test.csv\",header=None)\n",
        "data.dropna()\n",
        "d=np.array(data)\n",
        "y_test=d[:,[0]]\n",
        "x_test=np.delete(d,0,1)/255\n",
        "z=np.eye(10)\n",
        "yy_test=np.empty((y.shape[0],10),dtype=np.float64)\n",
        "for i in range(y.shape[0]):\n",
        "    for j in range(10):\n",
        "        if y_test[i]==j:\n",
        "            yy_test[i,:]=z[j,:]\n",
        "        else:\n",
        "            pass"
      ],
      "execution_count": 0,
      "outputs": []
    },
    {
      "cell_type": "code",
      "metadata": {
        "id": "DvBLnRMapRVi",
        "colab_type": "code",
        "colab": {
          "base_uri": "https://localhost:8080/",
          "height": 195
        },
        "outputId": "6cd179c9-6ac4-48e9-c1cc-5175abb30519"
      },
      "source": [
        "weight=[]\n",
        "for i in range(model.l):\n",
        "    model.ly[i].wt= weight[i]"
      ],
      "execution_count": 25,
      "outputs": [
        {
          "output_type": "error",
          "ename": "IndexError",
          "evalue": "ignored",
          "traceback": [
            "\u001b[0;31m---------------------------------------------------------------------------\u001b[0m",
            "\u001b[0;31mIndexError\u001b[0m                                Traceback (most recent call last)",
            "\u001b[0;32m<ipython-input-25-faf9a9a7374a>\u001b[0m in \u001b[0;36m<module>\u001b[0;34m()\u001b[0m\n\u001b[1;32m      1\u001b[0m \u001b[0mweight\u001b[0m\u001b[0;34m=\u001b[0m\u001b[0;34m[\u001b[0m\u001b[0;34m]\u001b[0m\u001b[0;34m\u001b[0m\u001b[0;34m\u001b[0m\u001b[0m\n\u001b[1;32m      2\u001b[0m \u001b[0;32mfor\u001b[0m \u001b[0mi\u001b[0m \u001b[0;32min\u001b[0m \u001b[0mrange\u001b[0m\u001b[0;34m(\u001b[0m\u001b[0mmodel\u001b[0m\u001b[0;34m.\u001b[0m\u001b[0ml\u001b[0m\u001b[0;34m)\u001b[0m\u001b[0;34m:\u001b[0m\u001b[0;34m\u001b[0m\u001b[0;34m\u001b[0m\u001b[0m\n\u001b[0;32m----> 3\u001b[0;31m     \u001b[0mmodel\u001b[0m\u001b[0;34m.\u001b[0m\u001b[0mly\u001b[0m\u001b[0;34m[\u001b[0m\u001b[0mi\u001b[0m\u001b[0;34m]\u001b[0m\u001b[0;34m.\u001b[0m\u001b[0mwt\u001b[0m\u001b[0;34m=\u001b[0m \u001b[0mweight\u001b[0m\u001b[0;34m[\u001b[0m\u001b[0mi\u001b[0m\u001b[0;34m]\u001b[0m\u001b[0;34m\u001b[0m\u001b[0;34m\u001b[0m\u001b[0m\n\u001b[0m",
            "\u001b[0;31mIndexError\u001b[0m: list index out of range"
          ]
        }
      ]
    },
    {
      "cell_type": "code",
      "metadata": {
        "id": "uyNigw7mnKMR",
        "colab_type": "code",
        "colab": {
          "base_uri": "https://localhost:8080/",
          "height": 162
        },
        "outputId": "06abcbd0-b3fc-4185-f344-ffe1fb421612"
      },
      "source": [
        "model.test(x_test.T, yy_test.T)"
      ],
      "execution_count": 21,
      "outputs": [
        {
          "output_type": "error",
          "ename": "AttributeError",
          "evalue": "ignored",
          "traceback": [
            "\u001b[0;31m---------------------------------------------------------------------------\u001b[0m",
            "\u001b[0;31mAttributeError\u001b[0m                            Traceback (most recent call last)",
            "\u001b[0;32m<ipython-input-21-e3b9135c7bbd>\u001b[0m in \u001b[0;36m<module>\u001b[0;34m()\u001b[0m\n\u001b[0;32m----> 1\u001b[0;31m \u001b[0mmodel\u001b[0m\u001b[0;34m.\u001b[0m\u001b[0mtest\u001b[0m\u001b[0;34m(\u001b[0m\u001b[0mx_test\u001b[0m\u001b[0;34m.\u001b[0m\u001b[0mT\u001b[0m\u001b[0;34m,\u001b[0m \u001b[0myy_test\u001b[0m\u001b[0;34m.\u001b[0m\u001b[0mT\u001b[0m\u001b[0;34m)\u001b[0m\u001b[0;34m\u001b[0m\u001b[0;34m\u001b[0m\u001b[0m\n\u001b[0m",
            "\u001b[0;31mAttributeError\u001b[0m: 'network' object has no attribute 'test'"
          ]
        }
      ]
    },
    {
      "cell_type": "code",
      "metadata": {
        "id": "bWe3ErulpKPn",
        "colab_type": "code",
        "colab": {
          "base_uri": "https://localhost:8080/",
          "height": 34
        },
        "outputId": "af6af7a7-1bce-4f80-84be-3e1d2844d4c1"
      },
      "source": [
        "np.mean(np.abs(model.ly[-1].error))"
      ],
      "execution_count": 30,
      "outputs": [
        {
          "output_type": "execute_result",
          "data": {
            "text/plain": [
              "0.11111654843714149"
            ]
          },
          "metadata": {
            "tags": []
          },
          "execution_count": 30
        }
      ]
    },
    {
      "cell_type": "code",
      "metadata": {
        "id": "qZxkEMn7poQI",
        "colab_type": "code",
        "colab": {}
      },
      "source": [
        ""
      ],
      "execution_count": 0,
      "outputs": []
    }
  ]
}