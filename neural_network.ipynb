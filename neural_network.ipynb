{
  "nbformat": 4,
  "nbformat_minor": 0,
  "metadata": {
    "kernelspec": {
      "display_name": "'Python Interactive'",
      "language": "python",
      "name": "45296aa9-596c-4495-9a23-f42d5784744a"
    },
    "language_info": {
      "codemirror_mode": {
        "name": "ipython",
        "version": 3
      },
      "file_extension": ".py",
      "mimetype": "text/x-python",
      "name": "python",
      "nbconvert_exporter": "python",
      "pygments_lexer": "ipython3",
      "version": "3.7.4"
    },
    "colab": {
      "name": "neural_network.ipynb",
      "provenance": [],
      "include_colab_link": true
    }
  },
  "cells": [
    {
      "cell_type": "markdown",
      "metadata": {
        "id": "view-in-github",
        "colab_type": "text"
      },
      "source": [
        "<a href=\"https://colab.research.google.com/github/pratikb2805/Ml-Library-I/blob/master/neural_network.ipynb\" target=\"_parent\"><img src=\"https://colab.research.google.com/assets/colab-badge.svg\" alt=\"Open In Colab\"/></a>"
      ]
    },
    {
      "cell_type": "code",
      "metadata": {
        "id": "v2qT56yYRTGf",
        "colab_type": "code",
        "colab": {}
      },
      "source": [
        "import numpy as np\n",
        "import pandas as pd\n",
        "import matplotlib.pyplot as plt\n",
        "import csv\n",
        "\n",
        "class layers():\n",
        "    def __init__(self,neu,r,c):\n",
        "        self.neu=int(neu)\n",
        "        self.wt=np.random.randn(r,c)\n",
        "        self.a=np.zeros((self.neu,1),dtype=np.float64)\n",
        "        self.z=np.zeros((self.neu,1),dtype=np.float64)\n",
        "        self.error=np.zeros((self.neu,1),dtype=np.float64)\n",
        "        self.temp=np.zeros((r,c),dtype=np.float64)\n",
        "        self.bias=np.random.randn(self.neu,1)\n",
        "        self.temp_bias=np.zeros((self.neu,1),dtype=np.float64)\n",
        "\n",
        "class network:\n",
        "    def __init__(self,data_in,data_out,layers_list,l_rate=0.05):\n",
        "        self.x=np.array(data_in)/100\n",
        "        self.y=np.array(data_out)    \n",
        "        xx=np.array_split(self.x.T,2)\n",
        "        self.xt=xx[0].T\n",
        "        self.xc=xx[1].T\n",
        "        yy=np.array_split(self.y.T,2)\n",
        "        self.yt=yy[0].T\n",
        "        self.yc=yy[1].T \n",
        "        self.l=int(len(li))\n",
        "        self.ly=layers_list\n",
        "        self.l_rate= float(l_rate)\n",
        "        try:\n",
        "            self.n=self.xt.shape[1]\n",
        "        except:\n",
        "            self.n=self.xt.shape[0]\n",
        "        self.m=int(self.n/100)\n",
        "        self.x_split=np.array_split(self.xt.T,self.m)\n",
        "        self.y_split=np.array_split(self.yt.T,self.m)\n",
        "     \n",
        "    def sigm(self,x):\n",
        "        return 1/(1+np.e**-x)\n",
        "    def der_sigm(self,x):\n",
        "        return sigm(x)/(1-sigm(x))\n",
        "    def forward(self):\n",
        "        for i in range(self.l):\n",
        "            self.ly[i].z=np.empty((self.ly[i].neu,self.xt.shape[1]),dtype=np.float64)\n",
        "            self.ly[i].a=np.empty((self.ly[i].neu,self.xt.shape[1]),dtype=np.float64)\n",
        "\n",
        "        for i in range(self.l):\n",
        "            if i==0:\n",
        "                self.ly[i].z=np.dot(self.ly[i].wt,self.xt)+\n",
        "                for j in range(int(self.ly[i].neu)):\n",
        "                    \n",
        "            else:\n",
        "                for j in range(int(self.ly[i].neu)):\n",
        "                    self.ly[i].z[j,:]=np.dot(self.ly[i].wt,self.ly[i-1].a)+int(self.ly[i].bias[j,:])\n",
        "            self.ly[i].a=self.sigm(self.ly[i].z)\n",
        "    \n",
        "    def cost(self):\n",
        "        return np.sum((np.dot(self.yt,np.log(self.ly[-1].a).T))+ np.dot( 1-self.yt,np.log(1-self.ly[-1].a).T ))\n",
        "    \n",
        "    def backprop(self):\n",
        "        for i in range(self.l-1, -1, -1):\n",
        "            if i!=self.l-1:\n",
        "                self.ly[i].error=np.dot(self.ly[i+1].wt.T, self.ly[i+1].a)\n",
        "            else:\n",
        "                self.ly[i].error=self.ly[i].a-self.yt\n",
        "    def update(self):\n",
        "        for i in range(self.l-1, -1, -1):\n",
        "            if i!=0:\n",
        "                self.ly[i].temp= np.dot(self.ly[i].error,self.ly[i-1].a.T)\n",
        "            else:\n",
        "                self.ly[i].temp= np.dot(self.ly[i].error,self.xt.T)\n",
        "                \n",
        "            self.ly[i].temp_bias= np.mean(self.ly[i].error, axis=1)\n",
        "            \n",
        "        for i in range(self.l-1, -1, -1):\n",
        "            self.ly[i].wt=self.ly[i].wt-self.ly[i].temp*self.l_rate\n",
        "            self.ly[i].bias=self.ly[i].bias-self.ly[i].temp_bias*self.l_rate\n",
        "\n",
        "\n",
        "    def train(self,epoch):\n",
        "        try:\n",
        "            epoch=int(int(epoch)/self.m)\n",
        "            r=int(self.m)\n",
        "        except:\n",
        "            epoch=int(epoch)\n",
        "            r=int(1)\n",
        "        for i in range(int(epoch)):\n",
        "            for j in range(int(r)):\n",
        "                self.xt=self.x_split[i].T\n",
        "                self.yt=self.y_split[i].T\n",
        "                self.forward()\n",
        "                self.cost()\n",
        "                self.backprop()\n",
        "                self.update()\n",
        "    def implement(self,x_data):            # just one sample at a time\n",
        "        x_data=np.array(x_data)/100\n",
        "        l=int(x_data.shape[0])\n",
        "        x_data=np.expand_dims(x_data,0)\n",
        "        x_data=x_data.T\n",
        "        self.xi=x_data\n",
        "        for i in range(self.l):\n",
        "            if i==0:\n",
        "                self.ly[i].z=np.dot(self.ly[i].wt,x_data)+self.ly[i].bias\n",
        "                self.ly[i].a=self.sigm( self.ly[i].z)\n",
        "            else:\n",
        "                self.ly[i].z=np.dot(self.ly[i].wt,self.ly[i-1].a)+self.ly[i].bias\n",
        "                self.ly[i].a=self.sigm(self.ly[i].z)\n",
        "        print(self.ly[-1].a)\n",
        "\n",
        "\n"
      ],
      "execution_count": 0,
      "outputs": []
    },
    {
      "cell_type": "code",
      "metadata": {
        "id": "C_Mpnzw08k6t",
        "colab_type": "code",
        "colab": {
          "base_uri": "https://localhost:8080/",
          "height": 34
        },
        "outputId": "db23df8b-b966-4035-bb3f-858e2ce8c2c7"
      },
      "source": [
        "!git init"
      ],
      "execution_count": 1,
      "outputs": [
        {
          "output_type": "stream",
          "text": [
            "Initialized empty Git repository in /content/.git/\n"
          ],
          "name": "stdout"
        }
      ]
    },
    {
      "cell_type": "code",
      "metadata": {
        "id": "ve6vW-gF8vJb",
        "colab_type": "code",
        "colab": {
          "base_uri": "https://localhost:8080/",
          "height": 1000
        },
        "outputId": "9c602406-b8ff-4abf-dddf-7ccca776efb2"
      },
      "source": [
        "!git config — global user.email “pratikb.2805@gmail.com”\n",
        "!git config — global user.name “pratikb2805”\n"
      ],
      "execution_count": 2,
      "outputs": [
        {
          "output_type": "stream",
          "text": [
            "usage: git config [<options>]\n",
            "\n",
            "Config file location\n",
            "    --global              use global config file\n",
            "    --system              use system config file\n",
            "    --local               use repository config file\n",
            "    -f, --file <file>     use given config file\n",
            "    --blob <blob-id>      read config from given blob object\n",
            "\n",
            "Action\n",
            "    --get                 get value: name [value-regex]\n",
            "    --get-all             get all values: key [value-regex]\n",
            "    --get-regexp          get values for regexp: name-regex [value-regex]\n",
            "    --get-urlmatch        get value specific for the URL: section[.var] URL\n",
            "    --replace-all         replace all matching variables: name value [value_regex]\n",
            "    --add                 add a new variable: name value\n",
            "    --unset               remove a variable: name [value-regex]\n",
            "    --unset-all           remove all matches: name [value-regex]\n",
            "    --rename-section      rename section: old-name new-name\n",
            "    --remove-section      remove a section: name\n",
            "    -l, --list            list all\n",
            "    -e, --edit            open an editor\n",
            "    --get-color           find the color configured: slot [default]\n",
            "    --get-colorbool       find the color setting: slot [stdout-is-tty]\n",
            "\n",
            "Type\n",
            "    --bool                value is \"true\" or \"false\"\n",
            "    --int                 value is decimal number\n",
            "    --bool-or-int         value is --bool or --int\n",
            "    --path                value is a path (file or directory name)\n",
            "    --expiry-date         value is an expiry date\n",
            "\n",
            "Other\n",
            "    -z, --null            terminate values with NUL byte\n",
            "    --name-only           show variable names only\n",
            "    --includes            respect include directives on lookup\n",
            "    --show-origin         show origin of config (file, standard input, blob, command line)\n",
            "\n",
            "usage: git config [<options>]\n",
            "\n",
            "Config file location\n",
            "    --global              use global config file\n",
            "    --system              use system config file\n",
            "    --local               use repository config file\n",
            "    -f, --file <file>     use given config file\n",
            "    --blob <blob-id>      read config from given blob object\n",
            "\n",
            "Action\n",
            "    --get                 get value: name [value-regex]\n",
            "    --get-all             get all values: key [value-regex]\n",
            "    --get-regexp          get values for regexp: name-regex [value-regex]\n",
            "    --get-urlmatch        get value specific for the URL: section[.var] URL\n",
            "    --replace-all         replace all matching variables: name value [value_regex]\n",
            "    --add                 add a new variable: name value\n",
            "    --unset               remove a variable: name [value-regex]\n",
            "    --unset-all           remove all matches: name [value-regex]\n",
            "    --rename-section      rename section: old-name new-name\n",
            "    --remove-section      remove a section: name\n",
            "    -l, --list            list all\n",
            "    -e, --edit            open an editor\n",
            "    --get-color           find the color configured: slot [default]\n",
            "    --get-colorbool       find the color setting: slot [stdout-is-tty]\n",
            "\n",
            "Type\n",
            "    --bool                value is \"true\" or \"false\"\n",
            "    --int                 value is decimal number\n",
            "    --bool-or-int         value is --bool or --int\n",
            "    --path                value is a path (file or directory name)\n",
            "    --expiry-date         value is an expiry date\n",
            "\n",
            "Other\n",
            "    -z, --null            terminate values with NUL byte\n",
            "    --name-only           show variable names only\n",
            "    --includes            respect include directives on lookup\n",
            "    --show-origin         show origin of config (file, standard input, blob, command line)\n",
            "\n"
          ],
          "name": "stdout"
        }
      ]
    },
    {
      "cell_type": "code",
      "metadata": {
        "id": "7zPbCq2J9E_J",
        "colab_type": "code",
        "colab": {}
      },
      "source": [
        ""
      ],
      "execution_count": 0,
      "outputs": []
    },
    {
      "cell_type": "code",
      "metadata": {
        "id": "3GYWLHPERTGx",
        "colab_type": "code",
        "colab": {}
      },
      "source": [
        "\n",
        "data=pd.read_csv(\"/content/sample_data/mnist_train_small.csv\",header=None)\n",
        "data.dropna()\n",
        "d=np.array(data)\n",
        "y=d[:,[0]]\n",
        "x=np.delete(d,0,1)\n",
        "z=np.eye(10)\n",
        "yy=np.empty((y.shape[0],10),dtype=np.float64)\n",
        "for i in range(y.shape[0]):\n",
        "    for j in range(10):\n",
        "        if y[i]==j+1:\n",
        "            yy[i,:]=z[j,:]\n",
        "        else:\n",
        "            pass"
      ],
      "execution_count": 0,
      "outputs": []
    },
    {
      "cell_type": "code",
      "metadata": {
        "id": "l1KzejAdRTG6",
        "colab_type": "code",
        "colab": {}
      },
      "source": [
        "li=[]\n",
        "li.append(layers(10,10,784))\n",
        "li.append(layers(10,10,10))\n",
        "li.append(layers(10,10,10))\n",
        "li.append(layers(10,10,10))\n",
        "li.append(layers(10,10,10))\n",
        "li.append(layers(10,10,10))\n"
      ],
      "execution_count": 0,
      "outputs": []
    },
    {
      "cell_type": "code",
      "metadata": {
        "id": "e6VAStxdW70t",
        "colab_type": "code",
        "colab": {}
      },
      "source": [
        ""
      ],
      "execution_count": 0,
      "outputs": []
    },
    {
      "cell_type": "code",
      "metadata": {
        "id": "hKADZ6egRTHE",
        "colab_type": "code",
        "colab": {}
      },
      "source": [
        "model=network(x.T,y.T,li)\n"
      ],
      "execution_count": 0,
      "outputs": []
    },
    {
      "cell_type": "code",
      "metadata": {
        "id": "7C_JLBooSGG0",
        "colab_type": "code",
        "outputId": "db2390a6-fd78-4de3-9c5d-9f751a45ff00",
        "colab": {
          "base_uri": "https://localhost:8080/",
          "height": 282
        }
      },
      "source": [
        "model.forward()"
      ],
      "execution_count": 0,
      "outputs": [
        {
          "output_type": "error",
          "ename": "ValueError",
          "evalue": "ignored",
          "traceback": [
            "\u001b[0;31m---------------------------------------------------------------------------\u001b[0m",
            "\u001b[0;31mValueError\u001b[0m                                Traceback (most recent call last)",
            "\u001b[0;32m<ipython-input-49-b4a9e4c101cb>\u001b[0m in \u001b[0;36m<module>\u001b[0;34m()\u001b[0m\n\u001b[0;32m----> 1\u001b[0;31m \u001b[0mmodel\u001b[0m\u001b[0;34m.\u001b[0m\u001b[0mforward\u001b[0m\u001b[0;34m(\u001b[0m\u001b[0;34m)\u001b[0m\u001b[0;34m\u001b[0m\u001b[0;34m\u001b[0m\u001b[0m\n\u001b[0m",
            "\u001b[0;32m<ipython-input-47-75418551f96a>\u001b[0m in \u001b[0;36mforward\u001b[0;34m(self)\u001b[0m\n\u001b[1;32m     48\u001b[0m             \u001b[0;32mif\u001b[0m \u001b[0mi\u001b[0m\u001b[0;34m==\u001b[0m\u001b[0;36m0\u001b[0m\u001b[0;34m:\u001b[0m\u001b[0;34m\u001b[0m\u001b[0;34m\u001b[0m\u001b[0m\n\u001b[1;32m     49\u001b[0m                 \u001b[0;32mfor\u001b[0m \u001b[0mj\u001b[0m \u001b[0;32min\u001b[0m \u001b[0mrange\u001b[0m\u001b[0;34m(\u001b[0m\u001b[0mint\u001b[0m\u001b[0;34m(\u001b[0m\u001b[0mself\u001b[0m\u001b[0;34m.\u001b[0m\u001b[0mly\u001b[0m\u001b[0;34m[\u001b[0m\u001b[0mi\u001b[0m\u001b[0;34m]\u001b[0m\u001b[0;34m.\u001b[0m\u001b[0mneu\u001b[0m\u001b[0;34m)\u001b[0m\u001b[0;34m)\u001b[0m\u001b[0;34m:\u001b[0m\u001b[0;34m\u001b[0m\u001b[0;34m\u001b[0m\u001b[0m\n\u001b[0;32m---> 50\u001b[0;31m                     \u001b[0mself\u001b[0m\u001b[0;34m.\u001b[0m\u001b[0mly\u001b[0m\u001b[0;34m[\u001b[0m\u001b[0mi\u001b[0m\u001b[0;34m]\u001b[0m\u001b[0;34m.\u001b[0m\u001b[0mz\u001b[0m\u001b[0;34m[\u001b[0m\u001b[0mj\u001b[0m\u001b[0;34m,\u001b[0m\u001b[0;34m:\u001b[0m\u001b[0;34m]\u001b[0m\u001b[0;34m=\u001b[0m\u001b[0mnp\u001b[0m\u001b[0;34m.\u001b[0m\u001b[0mdot\u001b[0m\u001b[0;34m(\u001b[0m\u001b[0mself\u001b[0m\u001b[0;34m.\u001b[0m\u001b[0mly\u001b[0m\u001b[0;34m[\u001b[0m\u001b[0mi\u001b[0m\u001b[0;34m]\u001b[0m\u001b[0;34m.\u001b[0m\u001b[0mwt\u001b[0m\u001b[0;34m,\u001b[0m\u001b[0mself\u001b[0m\u001b[0;34m.\u001b[0m\u001b[0mxt\u001b[0m\u001b[0;34m)\u001b[0m\u001b[0;34m+\u001b[0m\u001b[0mint\u001b[0m\u001b[0;34m(\u001b[0m\u001b[0mself\u001b[0m\u001b[0;34m.\u001b[0m\u001b[0mly\u001b[0m\u001b[0;34m[\u001b[0m\u001b[0mi\u001b[0m\u001b[0;34m]\u001b[0m\u001b[0;34m.\u001b[0m\u001b[0mbias\u001b[0m\u001b[0;34m[\u001b[0m\u001b[0mj\u001b[0m\u001b[0;34m,\u001b[0m\u001b[0;34m:\u001b[0m\u001b[0;34m]\u001b[0m\u001b[0;34m)\u001b[0m\u001b[0;34m\u001b[0m\u001b[0;34m\u001b[0m\u001b[0m\n\u001b[0m\u001b[1;32m     51\u001b[0m                 \u001b[0mself\u001b[0m\u001b[0;34m.\u001b[0m\u001b[0mly\u001b[0m\u001b[0;34m[\u001b[0m\u001b[0mi\u001b[0m\u001b[0;34m]\u001b[0m\u001b[0;34m.\u001b[0m\u001b[0ma\u001b[0m\u001b[0;34m=\u001b[0m\u001b[0mself\u001b[0m\u001b[0;34m.\u001b[0m\u001b[0msigm\u001b[0m\u001b[0;34m(\u001b[0m \u001b[0mself\u001b[0m\u001b[0;34m.\u001b[0m\u001b[0mly\u001b[0m\u001b[0;34m[\u001b[0m\u001b[0mi\u001b[0m\u001b[0;34m]\u001b[0m\u001b[0;34m.\u001b[0m\u001b[0mz\u001b[0m\u001b[0;34m)\u001b[0m\u001b[0;34m\u001b[0m\u001b[0;34m\u001b[0m\u001b[0m\n\u001b[1;32m     52\u001b[0m             \u001b[0;32melse\u001b[0m\u001b[0;34m:\u001b[0m\u001b[0;34m\u001b[0m\u001b[0;34m\u001b[0m\u001b[0m\n",
            "\u001b[0;31mValueError\u001b[0m: could not broadcast input array from shape (10,10000) into shape (10000)"
          ]
        }
      ]
    },
    {
      "cell_type": "code",
      "metadata": {
        "id": "WY-vwjwxRTHN",
        "colab_type": "code",
        "outputId": "31287698-fa51-4ea2-fe3f-4bf1e5519ed2",
        "colab": {}
      },
      "source": [
        "\n",
        "data=pd.read_csv(\"mnist_test.csv\",header=None)\n",
        "data.dropna()\n",
        "d=np.array(data)\n",
        "y_test=d[:,[0]]\n",
        "x=np.delete(d,0,1)\n",
        "z=np.eye(10)\n",
        "yy=np.empty((y.shape[0],10),dtype=np.float64)\n",
        "for i in range(y.shape[0]):\n",
        "    for j in range(10):\n",
        "        if y[i]==j+1:\n",
        "            yy[i,:]=z[j,:]\n",
        "        else:\n",
        "            pass"
      ],
      "execution_count": 0,
      "outputs": [
        {
          "output_type": "execute_result",
          "data": {
            "text/plain": [
              "array([[0.],\n",
              "       [0.],\n",
              "       [0.],\n",
              "       [0.],\n",
              "       [0.],\n",
              "       [0.],\n",
              "       [0.],\n",
              "       [0.],\n",
              "       [0.],\n",
              "       [0.]])"
            ]
          },
          "metadata": {
            "tags": []
          },
          "execution_count": 69
        }
      ]
    },
    {
      "cell_type": "code",
      "metadata": {
        "id": "lMZ3_hDkRTHa",
        "colab_type": "code",
        "outputId": "5bdeae46-a8cb-4a36-dfd3-7dbef955503b",
        "colab": {}
      },
      "source": [
        "model.ly[-1].wt"
      ],
      "execution_count": 0,
      "outputs": [
        {
          "output_type": "execute_result",
          "data": {
            "text/plain": [
              "array([[-1.69977608,  0.56464518, -1.14951219, -0.24750915,  0.45364465,\n",
              "         0.2505694 ,  1.36297287, -1.28294785,  1.19222762,  1.58164443],\n",
              "       [-0.7106992 ,  0.23586616, -2.19432919,  0.92257624,  1.66071521,\n",
              "         1.54689255, -0.81519256, -0.84651815,  0.4791914 ,  1.12772809],\n",
              "       [-1.31474015, -1.44546283, -0.97104849, -0.36770936,  2.3965853 ,\n",
              "         2.80317806, -0.60007546,  1.45170488, -0.31887083,  0.48521521],\n",
              "       [-1.19570865,  0.06999448, -0.35564848, -0.00869066,  0.36711753,\n",
              "        -1.67356087,  1.09991085,  0.11372201,  1.15688278,  1.1647486 ],\n",
              "       [-1.01808836, -0.60932253,  0.34583055,  0.58681153, -0.1413575 ,\n",
              "        -0.50733616,  0.82068992,  0.99313032,  0.27825674, -0.20434223],\n",
              "       [-0.18420563,  0.87836227,  1.68841015, -0.5882249 , -0.93621592,\n",
              "         1.38506629, -0.56813936, -0.43810894,  0.15449807,  0.78007476],\n",
              "       [-1.36139092, -0.63035702,  0.0388052 ,  0.89499131, -0.13334477,\n",
              "        -0.045995  ,  0.03915251, -1.17930905,  0.3981168 ,  1.07657096],\n",
              "       [-0.05146596, -1.53570707, -1.72617546, -1.28212279, -0.67913015,\n",
              "        -1.45933575,  1.31388241,  0.82754018, -1.50319403,  1.20454629],\n",
              "       [-1.1532519 , -0.56153259, -0.67411745,  0.87246204, -0.31524711,\n",
              "        -0.77878409, -0.81362369, -0.45015061, -0.3427132 ,  0.50737939],\n",
              "       [-1.97267991, -0.19008507, -1.25524925, -1.03491032, -0.55580053,\n",
              "        -1.99958757,  0.41564572,  1.2197332 , -0.19722098, -1.67215565]])"
            ]
          },
          "metadata": {
            "tags": []
          },
          "execution_count": 6
        }
      ]
    },
    {
      "cell_type": "code",
      "metadata": {
        "id": "05b5cF71RTHi",
        "colab_type": "code",
        "outputId": "79347c83-2492-4704-e7dc-88c356523ee9",
        "colab": {}
      },
      "source": [
        "np.mean(np.square(model.y-model.ly[-1].a),axis=0)*100"
      ],
      "execution_count": 0,
      "outputs": [
        {
          "output_type": "execute_result",
          "data": {
            "text/plain": [
              "array([3600., 2500., 4900., ...,  400., 8100., 2500.])"
            ]
          },
          "metadata": {
            "tags": []
          },
          "execution_count": 12
        }
      ]
    },
    {
      "cell_type": "code",
      "metadata": {
        "id": "ETpuwjkbRTHv",
        "colab_type": "code",
        "colab": {}
      },
      "source": [
        ""
      ],
      "execution_count": 0,
      "outputs": []
    }
  ]
}