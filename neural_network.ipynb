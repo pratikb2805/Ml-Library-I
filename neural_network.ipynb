{
  "nbformat": 4,
  "nbformat_minor": 0,
  "metadata": {
    "kernelspec": {
      "display_name": "Python 3",
      "language": "python",
      "name": "python3"
    },
    "language_info": {
      "codemirror_mode": {
        "name": "ipython",
        "version": 3
      },
      "file_extension": ".py",
      "mimetype": "text/x-python",
      "name": "python",
      "nbconvert_exporter": "python",
      "pygments_lexer": "ipython3",
      "version": "3.7.4"
    },
    "colab": {
      "name": "neural_network.ipynb",
      "provenance": []
    }
  },
  "cells": [
    {
      "cell_type": "code",
      "metadata": {
        "id": "jhSTXU63nTS9",
        "colab_type": "code",
        "colab": {}
      },
      "source": [
        "\n",
        "import numpy as np\n",
        "import pandas as pd\n",
        "import matplotlib.pyplot as plt\n",
        "import csv\n",
        "import warnings\n",
        "np.seterr( over='ignore' )\n",
        "\n",
        "def fxn():\n",
        "    warnings.warn(\"deprecated\", DeprecationWarning)\n",
        "\n",
        "with warnings.catch_warnings():\n",
        "    warnings.simplefilter(\"ignore\")\n",
        "    fxn()\n",
        "\n",
        "class layers:\n",
        "    def __init__(self,neu,r,c):\n",
        "        self.neu=int(neu)\n",
        "        self.wt=np.random.randn(int(r),int(c))*100\n",
        "        self.bias=np.random.randn()\n",
        "\n",
        "class network:\n",
        "    def __init__(self,data_in,data_out,layers_list,l_rate=0.001):\n",
        "        self.xt=np.array(data_in)\n",
        "        self.yt=np.array(data_out)    \n",
        "        self.l=int(len(li))\n",
        "        self.ly=layers_list\n",
        "        self.l_rate= float(l_rate)\n",
        "        try:\n",
        "            self.n=self.xt.shape[1]\n",
        "        except:\n",
        "            self.n=self.xt.shape[0]\n",
        "        self.m=int(self.n/100)\n",
        "        self.x_split=np.array_split(self.xt.T,self.m)\n",
        "        self.y_split=np.array_split(self.yt.T,self.m)\n",
        "     \n",
        "    def sigm(self,x):\n",
        "        \n",
        "        return 1/(1+np.e**-x)\n",
        "\n",
        "\n",
        "    def der_sigm(self,x):\n",
        "        return self.sigm(x)*(1-self.sigm(x))\n",
        "\n",
        "    def forward(self):    \n",
        "        for i in range(self.l):\n",
        "            if i==0:\n",
        "                self.ly[i].z=np.dot(self.ly[i].wt,self.xt) +self.ly[i].bias              \n",
        "            else:\n",
        "                self.ly[i].z=np.dot(self.ly[i].wt,self.ly[i-1].a) + self.ly[i].bias\n",
        "            self.ly[i].a=self.sigm(self.ly[i].z)\n",
        "    \n",
        "    def cost(self):\n",
        "        return np.sum((np.dot(self.yt,np.log(self.ly[-1].a).T))+ np.dot( 1-self.yt,np.log(1-self.ly[-1].a).T ))\n",
        "    \n",
        "    def backprop(self):\n",
        "        for i in range(self.l-1, -1, -1):\n",
        "            if i!=self.l-1:\n",
        "                self.ly[i].error=np.dot(self.ly[i+1].wt.T, self.ly[i+1].error*self.der_sigm(self.ly[i].z))\n",
        "            else:\n",
        "                self.ly[i].error=(self.ly[i].a-self.yt)*self.ly[i].a*(1-self.ly[i].a)\n",
        "    \n",
        "    def update(self):\n",
        "        for i in range(self.l-1, -1, -1):\n",
        "            if i!=0:\n",
        "                temp= np.dot(self.ly[i].error, self.ly[i-1].a.T)\n",
        "            else:\n",
        "                temp= np.dot(self.ly[i].error,self.xt.T)            \n",
        "            temp_bias= np.mean(self.ly[i].error)\n",
        "            self.ly[i].wt=self.ly[i].wt-temp*self.l_rate\n",
        "            self.ly[i].bias=self.ly[i].bias-temp_bias*self.l_rate\n",
        "\n",
        "    def train(self,epoch):\n",
        "        for j in range(int(epoch)):\n",
        "            self.forward()\n",
        "            self.backprop()\n",
        "            self.update()\n",
        "\n",
        "        \n",
        "\n",
        "    def implement(self,x_data):            # just one sample at a time\n",
        "        x_data=np.array(x_data)/100\n",
        "        l=int(x_data.shape[0])\n",
        "        x_data=np.expand_dims(x_data,0)\n",
        "        x_data=x_data.T\n",
        "        self.xi=x_data\n",
        "        for i in range(self.l):\n",
        "            if i==0:\n",
        "                self.ly[i].z=np.dot(self.ly[i].wt,x_data)+self.ly[i].bias\n",
        "                self.ly[i].a=self.sigm( self.ly[i].z)\n",
        "            else:\n",
        "                self.ly[i].z=np.dot(self.ly[i].wt,self.ly[i-1].a)+self.ly[i].bias\n",
        "                self.ly[i].a=self.sigm(self.ly[i].z)\n",
        "        print(self.ly[-1].a)\n",
        "\n",
        "    def train2(self):\n",
        "        self.forward()\n",
        "        self.backprop()\n",
        "        self.update()\n",
        "        while np.mean(np.abs(self.ly[-1].error))>(0.3):\n",
        "            self.forward()\n",
        "            self.backprop()\n",
        "            self.update()\n",
        "\n",
        "    def forward_cv(self):\n",
        "        for i in range(self.l):\n",
        "            self.ly[i].z_cv=np.empty((self.ly[i].neu,self.xc.shape[1]),dtype=np.float64)\n",
        "            self.ly[i].a_cv=np.empty((self.ly[i].neu,self.xc.shape[1]),dtype=np.float64)\n",
        "\n",
        "        for i in range(self.l):\n",
        "            if i==0:\n",
        "                for j in range(int(self.ly[i].neu)):\n",
        "                    self.ly[i].z_cv[j,:]=np.dot(self.ly[i].wt,self.xc)[j,:] +self.ly[i].bias[j]              \n",
        "            else:\n",
        "                for j in range(int(self.ly[i].neu)):\n",
        "                    self.ly[i].z_cv[j,:]=np.dot(self.ly[i].wt,self.ly[i-1].a_cv)[j,:] + self.ly[i].bias[j]\n",
        "            self.ly[i].a_cv=self.sigm(self.ly[i].z_cv)\n",
        "    def error_cv(self):\n",
        "        return np.mean(np.square(self.yc- self.ly[-1].a_cv))"
      ],
      "execution_count": 0,
      "outputs": []
    },
    {
      "cell_type": "code",
      "metadata": {
        "id": "1ETO1Vh2nTTb",
        "colab_type": "code",
        "colab": {}
      },
      "source": [
        "data=pd.read_csv(\"/content/sample_data/mnist_train_small.csv\",header=None)\n",
        "data.dropna()\n",
        "d=np.array(data)\n",
        "y=d[:,[0]]\n",
        "x=np.delete(d,0,1)/255\n",
        "z=np.eye(10)\n",
        "yy=np.empty((y.shape[0],10),dtype=np.float64)\n",
        "for i in range(y.shape[0]):\n",
        "    for j in range(10):\n",
        "        if y[i]==j:\n",
        "            yy[i,:]=z[j,:]\n",
        "        else:\n",
        "            pass"
      ],
      "execution_count": 0,
      "outputs": []
    },
    {
      "cell_type": "code",
      "metadata": {
        "id": "FRC1Fr0GnTTt",
        "colab_type": "code",
        "colab": {}
      },
      "source": [
        "li=[]\n",
        "li.append(layers(10,10,784))\n",
        "li.append(layers(10,10,10))\n",
        "li.append(layers(10,10,10))\n",
        "li.append(layers(10,10,10))\n",
        "li.append(layers(10,10,10))\n",
        "li.append(layers(10,10,10))\n",
        "li.append(layers(10,10,10))\n",
        "li.append(layers(10,10,10))\n",
        "li.append(layers(10,10,10))\n",
        "li.append(layers(10,10,10))\n"
      ],
      "execution_count": 0,
      "outputs": []
    },
    {
      "cell_type": "code",
      "metadata": {
        "id": "R7hus30NnTT8",
        "colab_type": "code",
        "colab": {}
      },
      "source": [
        "model=network(x.T,yy.T,li)\n"
      ],
      "execution_count": 0,
      "outputs": []
    },
    {
      "cell_type": "code",
      "metadata": {
        "id": "KXhCMZi_nTUG",
        "colab_type": "code",
        "colab": {}
      },
      "source": [
        "model.train(1)"
      ],
      "execution_count": 0,
      "outputs": []
    },
    {
      "cell_type": "code",
      "metadata": {
        "id": "x_lq-3SmnTUT",
        "colab_type": "code",
        "colab": {}
      },
      "source": [
        "\n",
        "while np.mean(np.abs(model.ly[-1].error))>=0.09:\n",
        "     model.train(50)"
      ],
      "execution_count": 0,
      "outputs": []
    },
    {
      "cell_type": "code",
      "metadata": {
        "id": "gGKqMWoPnTUc",
        "colab_type": "code",
        "colab": {}
      },
      "source": [
        "model.forward()\n",
        "model.backprop()\n",
        "model.update()"
      ],
      "execution_count": 0,
      "outputs": []
    },
    {
      "cell_type": "code",
      "metadata": {
        "id": "Ith05Pr7nTUk",
        "colab_type": "code",
        "colab": {},
        "outputId": "171e66f3-f141-4b48-8677-205572b1d450"
      },
      "source": [
        "np.mean(np.abs(model.ly[-1].error))"
      ],
      "execution_count": 0,
      "outputs": [
        {
          "output_type": "execute_result",
          "data": {
            "text/plain": [
              "0.006496815727406602"
            ]
          },
          "metadata": {
            "tags": []
          },
          "execution_count": 14
        }
      ]
    },
    {
      "cell_type": "code",
      "metadata": {
        "id": "Vl9n1ZNznTUz",
        "colab_type": "code",
        "colab": {
          "base_uri": "https://localhost:8080/",
          "height": 235
        },
        "outputId": "d64b9cd3-a7fa-49b2-e7c8-4eda1f35818a"
      },
      "source": [
        "model.ly[-1].a #after training a lot"
      ],
      "execution_count": 8,
      "outputs": [
        {
          "output_type": "execute_result",
          "data": {
            "text/plain": [
              "array([[1.72261460e-106, 1.00000000e+000, 1.00000000e+000, ...,\n",
              "        1.72261460e-106, 1.00000000e+000, 1.00000000e+000],\n",
              "       [1.00000000e+000, 1.00000000e+000, 1.00000000e+000, ...,\n",
              "        1.00000000e+000, 1.00000000e+000, 1.00000000e+000],\n",
              "       [1.00000000e+000, 1.00000000e+000, 1.00000000e+000, ...,\n",
              "        1.00000000e+000, 1.00000000e+000, 1.00000000e+000],\n",
              "       ...,\n",
              "       [1.00000000e+000, 1.00000000e+000, 1.00000000e+000, ...,\n",
              "        1.00000000e+000, 1.00000000e+000, 1.00000000e+000],\n",
              "       [1.91001616e-154, 1.24376153e-056, 1.24376153e-056, ...,\n",
              "        1.91001616e-154, 1.24376153e-056, 1.24376153e-056],\n",
              "       [1.00000000e+000, 1.00000000e+000, 1.00000000e+000, ...,\n",
              "        1.00000000e+000, 1.00000000e+000, 1.00000000e+000]])"
            ]
          },
          "metadata": {
            "tags": []
          },
          "execution_count": 8
        }
      ]
    },
    {
      "cell_type": "code",
      "metadata": {
        "id": "aOI7lMH2nTU8",
        "colab_type": "code",
        "colab": {},
        "outputId": "0c898540-807e-49d9-afea-c2c1dcce1ee3"
      },
      "source": [
        "np.mean(np.abs(model.ly[-1].error))"
      ],
      "execution_count": 0,
      "outputs": [
        {
          "output_type": "execute_result",
          "data": {
            "text/plain": [
              "0.09437041450903498"
            ]
          },
          "metadata": {
            "tags": []
          },
          "execution_count": 15
        }
      ]
    },
    {
      "cell_type": "code",
      "metadata": {
        "id": "2NqtoKkunTVE",
        "colab_type": "code",
        "colab": {}
      },
      "source": [
        "model.forward()"
      ],
      "execution_count": 0,
      "outputs": []
    },
    {
      "cell_type": "code",
      "metadata": {
        "id": "37OhS58RnTVO",
        "colab_type": "code",
        "colab": {},
        "outputId": "d7b841ea-27fd-42ac-a995-dcc6231832d2"
      },
      "source": [
        "model.ly[-1].a"
      ],
      "execution_count": 0,
      "outputs": [
        {
          "output_type": "execute_result",
          "data": {
            "text/plain": [
              "array([[0.0981 , 0.0981 , 0.0981 , ..., 0.0981 , 0.0981 , 0.0981 ],\n",
              "       [0.11215, 0.11215, 0.11215, ..., 0.11215, 0.11215, 0.11215],\n",
              "       [0.09945, 0.09945, 0.09945, ..., 0.09945, 0.09945, 0.09945],\n",
              "       ...,\n",
              "       [0.1063 , 0.1063 , 0.1063 , ..., 0.1063 , 0.1063 , 0.1063 ],\n",
              "       [0.0956 , 0.0956 , 0.0956 , ..., 0.0956 , 0.0956 , 0.0956 ],\n",
              "       [0.10115, 0.10115, 0.10115, ..., 0.10115, 0.10115, 0.10115]])"
            ]
          },
          "metadata": {
            "tags": []
          },
          "execution_count": 36
        }
      ]
    },
    {
      "cell_type": "code",
      "metadata": {
        "id": "SStEMuePnTVX",
        "colab_type": "code",
        "colab": {}
      },
      "source": [
        "def new(data):\n",
        "    x= data.shape[0]\n",
        "    for i in range(x):\n",
        "        ind= np.argmax(data[i])\n",
        "        data[i,:]=0\n",
        "        data[i, ind]=1\n",
        "    return data"
      ],
      "execution_count": 0,
      "outputs": []
    },
    {
      "cell_type": "code",
      "metadata": {
        "id": "I9xdB3uOnTVf",
        "colab_type": "code",
        "colab": {}
      },
      "source": [
        "data2=new(model.ly[-1].a.T)"
      ],
      "execution_count": 0,
      "outputs": []
    },
    {
      "cell_type": "code",
      "metadata": {
        "id": "33SJA2CBnTVq",
        "colab_type": "code",
        "colab": {},
        "outputId": "9fdd2a4e-b3fa-4441-979e-8d9e465ed7b0"
      },
      "source": [
        "data2"
      ],
      "execution_count": 0,
      "outputs": [
        {
          "output_type": "execute_result",
          "data": {
            "text/plain": [
              "array([[1., 0., 0., ..., 0., 0., 0.],\n",
              "       [1., 0., 0., ..., 0., 0., 0.],\n",
              "       [1., 0., 0., ..., 0., 0., 0.],\n",
              "       ...,\n",
              "       [1., 0., 0., ..., 0., 0., 0.],\n",
              "       [1., 0., 0., ..., 0., 0., 0.],\n",
              "       [1., 0., 0., ..., 0., 0., 0.]])"
            ]
          },
          "metadata": {
            "tags": []
          },
          "execution_count": 29
        }
      ]
    },
    {
      "cell_type": "code",
      "metadata": {
        "id": "788SEcEjnTVz",
        "colab_type": "code",
        "colab": {}
      },
      "source": [
        ""
      ],
      "execution_count": 0,
      "outputs": []
    }
  ]
}