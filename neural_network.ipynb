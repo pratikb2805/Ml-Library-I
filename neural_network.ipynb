{
 "cells": [
  {
   "cell_type": "code",
   "execution_count": 2,
   "metadata": {},
   "outputs": [],
   "source": [
    "import numpy as np\n",
    "import pandas as pd\n",
    "import matplotlib.pyplot as plt\n",
    "import csv\n",
    "\n",
    "class layers():\n",
    "    def __init__(self,neu,r,c):\n",
    "        self.neu=int(neu)\n",
    "        self.wt=np.random.randn(r,c)\n",
    "        self.a=np.zeros((self.neu,1),dtype=np.float64)\n",
    "        self.z=np.zeros((self.neu,1),dtype=np.float64)\n",
    "        self.error=np.zeros((self.neu,1),dtype=np.float64)\n",
    "        self.temp=np.zeros((r,c),dtype=np.float64)\n",
    "        self.bias=np.random.randn(self.neu,1)\n",
    "        self.temp_bias=np.zeros((self.neu,1),dtype=np.float64)\n",
    "\n",
    "class network:\n",
    "    def __init__(self,data_in,data_out,layers_list,l_rate=0.05):\n",
    "        self.x=np.array(data_in)/100\n",
    "        self.y=np.array(data_out)    \n",
    "        xx=np.array_split(self.x.T,2)\n",
    "        self.xt=xx[0].T\n",
    "        self.xc=xx[1].T\n",
    "        yy=np.array_split(self.y.T,2)\n",
    "        self.yt=yy[0].T\n",
    "        self.yc=yy[1].T \n",
    "        self.l=int(len(li))\n",
    "        self.ly=layers_list\n",
    "        self.l_rate= float(l_rate)\n",
    "        try:\n",
    "            self.n=self.xt.shape[1]\n",
    "        except:\n",
    "            self.n=self.xt.shape[0]\n",
    "        self.m=int(self.n/100)\n",
    "        self.x_split=np.array_split(self.xt.T,self.m)\n",
    "        self.y_split=np.array_split(self.yt.T,self.m)\n",
    "     \n",
    "    def sigm(self,x):\n",
    "        return 1/(1+np.e**-x)\n",
    "    def der_sigm(self,x):\n",
    "        return sigm(x)/(1-sigm(x))\n",
    "    def forward(self):\n",
    "        for i in range(self.l):\n",
    "            if i==0:\n",
    "                self.ly[i].z=np.dot(self.ly[i].wt,self.xt)+self.ly[i].bias\n",
    "                self.ly[i].a=self.sigm( self.ly[i].z)\n",
    "            else:\n",
    "                self.ly[i].z=np.dot(self.ly[i].wt,self.ly[i-1].a)+self.ly[i].bias\n",
    "                self.ly[i].a=self.sigm(self.ly[i].z)\n",
    "    \n",
    "    def cost(self):\n",
    "        return np.sum((np.dot(self.yt,np.log(self.ly[-1].a).T))+ np.dot( 1-self.yt,np.log(1-self.ly[-1].a).T ))\n",
    "    \n",
    "    def backprop(self):\n",
    "        for i in range(self.l-1, -1, -1):\n",
    "            if i!=self.l-1:\n",
    "                self.ly[i].error=np.dot(self.ly[i+1].wt.T, self.ly[i+1].a)\n",
    "            else:\n",
    "                self.ly[i].error=self.ly[i].a-self.yt\n",
    "    def update(self):\n",
    "        for i in range(self.l-1, -1, -1):\n",
    "            if i!=0:\n",
    "                self.ly[i].temp= np.dot(self.ly[i].error,self.ly[i-1].a.T)\n",
    "            else:\n",
    "                self.ly[i].temp= np.dot(self.ly[i].error,self.xt.T)\n",
    "                \n",
    "            self.ly[i].temp_bias= np.mean(self.ly[i].error, axis=1)\n",
    "            \n",
    "        for i in range(self.l-1, -1, -1):\n",
    "            self.ly[i].wt=self.ly[i].wt-self.ly[i].temp*self.l_rate\n",
    "            self.ly[i].bias=self.ly[i].bias-np.mean(self.ly[i].temp_bias, axis=1)*self.l_rate\n",
    "\n",
    "\n",
    "    def train(self,epoch):\n",
    "        try:\n",
    "            epoch=int(int(epoch)/self.m)\n",
    "            r=int(self.m)\n",
    "        except:\n",
    "            epoch=int(epoch)\n",
    "            r=int(1)\n",
    "        for i in range(int(epoch)):\n",
    "            for j in range(int(r)):\n",
    "                self.xt=self.x_split[i].T\n",
    "                self.yt=self.y_split[i].T\n",
    "                self.forward()\n",
    "                self.cost()\n",
    "                self.backprop()\n",
    "                self.update()\n",
    "    def implement(self,x_data):            # just one sample at a time\n",
    "        x_data=np.array(x_data)/100\n",
    "        l=int(x_data.shape[0])\n",
    "        x_data=np.expand_dims(x_data,0)\n",
    "        x_data=x_data.T\n",
    "        self.xi=x_data\n",
    "        for i in range(self.l):\n",
    "            if i==0:\n",
    "                self.ly[i].z=np.dot(self.ly[i].wt,x_data)+self.ly[i].bias\n",
    "                self.ly[i].a=self.sigm( self.ly[i].z)\n",
    "            else:\n",
    "                self.ly[i].z=np.dot(self.ly[i].wt,self.ly[i-1].a)+self.ly[i].bias\n",
    "                self.ly[i].a=self.sigm(self.ly[i].z)\n",
    "        print(self.ly[-1].a)\n",
    "\n",
    "\n"
   ]
  },
  {
   "cell_type": "code",
   "execution_count": 3,
   "metadata": {},
   "outputs": [],
   "source": [
    "\n",
    "data=pd.read_csv(\"mnist_train_small.csv\",header=None)\n",
    "data.dropna()\n",
    "d=np.array(data)\n",
    "y=d[:,[0]]\n",
    "x=np.delete(d,0,1)\n",
    "z=np.eye(10)\n",
    "yy=np.empty((y.shape[0],10),dtype=np.float64)\n",
    "for i in range(y.shape[0]):\n",
    "    for j in range(10):\n",
    "        if y[i]==j+1:\n",
    "            yy[i,:]=z[j,:]\n",
    "        else:\n",
    "            pass"
   ]
  },
  {
   "cell_type": "code",
   "execution_count": 4,
   "metadata": {},
   "outputs": [],
   "source": [
    "li=[]\n",
    "li.append(layers(10,10,784))\n",
    "li.append(layers(10,10,10))\n",
    "li.append(layers(10,10,10))\n",
    "li.append(layers(10,10,10))\n",
    "li.append(layers(10,10,10))\n",
    "li.append(layers(10,10,10))\n"
   ]
  },
  {
   "cell_type": "code",
   "execution_count": 18,
   "metadata": {},
   "outputs": [],
   "source": [
    "model=network(x.T,y.T,li)\n",
    "model.train(1)"
   ]
  },
  {
   "cell_type": "code",
   "execution_count": 69,
   "metadata": {},
   "outputs": [
    {
     "data": {
      "text/plain": [
       "array([[0.],\n",
       "       [0.],\n",
       "       [0.],\n",
       "       [0.],\n",
       "       [0.],\n",
       "       [0.],\n",
       "       [0.],\n",
       "       [0.],\n",
       "       [0.],\n",
       "       [0.]])"
      ]
     },
     "execution_count": 69,
     "metadata": {},
     "output_type": "execute_result"
    }
   ],
   "source": [
    "\n",
    "data=pd.read_csv(\"mnist_test.csv\",header=None)\n",
    "data.dropna()\n",
    "d=np.array(data)\n",
    "y_test=d[:,[0]]\n",
    "x=np.delete(d,0,1)\n",
    "z=np.eye(10)\n",
    "yy=np.empty((y.shape[0],10),dtype=np.float64)\n",
    "for i in range(y.shape[0]):\n",
    "    for j in range(10):\n",
    "        if y[i]==j+1:\n",
    "            yy[i,:]=z[j,:]\n",
    "        else:\n",
    "            pass"
   ]
  },
  {
   "cell_type": "code",
   "execution_count": 6,
   "metadata": {},
   "outputs": [
    {
     "data": {
      "text/plain": [
       "array([[-1.69977608,  0.56464518, -1.14951219, -0.24750915,  0.45364465,\n",
       "         0.2505694 ,  1.36297287, -1.28294785,  1.19222762,  1.58164443],\n",
       "       [-0.7106992 ,  0.23586616, -2.19432919,  0.92257624,  1.66071521,\n",
       "         1.54689255, -0.81519256, -0.84651815,  0.4791914 ,  1.12772809],\n",
       "       [-1.31474015, -1.44546283, -0.97104849, -0.36770936,  2.3965853 ,\n",
       "         2.80317806, -0.60007546,  1.45170488, -0.31887083,  0.48521521],\n",
       "       [-1.19570865,  0.06999448, -0.35564848, -0.00869066,  0.36711753,\n",
       "        -1.67356087,  1.09991085,  0.11372201,  1.15688278,  1.1647486 ],\n",
       "       [-1.01808836, -0.60932253,  0.34583055,  0.58681153, -0.1413575 ,\n",
       "        -0.50733616,  0.82068992,  0.99313032,  0.27825674, -0.20434223],\n",
       "       [-0.18420563,  0.87836227,  1.68841015, -0.5882249 , -0.93621592,\n",
       "         1.38506629, -0.56813936, -0.43810894,  0.15449807,  0.78007476],\n",
       "       [-1.36139092, -0.63035702,  0.0388052 ,  0.89499131, -0.13334477,\n",
       "        -0.045995  ,  0.03915251, -1.17930905,  0.3981168 ,  1.07657096],\n",
       "       [-0.05146596, -1.53570707, -1.72617546, -1.28212279, -0.67913015,\n",
       "        -1.45933575,  1.31388241,  0.82754018, -1.50319403,  1.20454629],\n",
       "       [-1.1532519 , -0.56153259, -0.67411745,  0.87246204, -0.31524711,\n",
       "        -0.77878409, -0.81362369, -0.45015061, -0.3427132 ,  0.50737939],\n",
       "       [-1.97267991, -0.19008507, -1.25524925, -1.03491032, -0.55580053,\n",
       "        -1.99958757,  0.41564572,  1.2197332 , -0.19722098, -1.67215565]])"
      ]
     },
     "execution_count": 6,
     "metadata": {},
     "output_type": "execute_result"
    }
   ],
   "source": [
    "model.ly[-1].wt"
   ]
  },
  {
   "cell_type": "code",
   "execution_count": 12,
   "metadata": {},
   "outputs": [
    {
     "data": {
      "text/plain": [
       "array([3600., 2500., 4900., ...,  400., 8100., 2500.])"
      ]
     },
     "execution_count": 12,
     "metadata": {},
     "output_type": "execute_result"
    }
   ],
   "source": [
    "np.mean(np.square(model.y-model.ly[-1].a),axis=0)*100"
   ]
  },
  {
   "cell_type": "code",
   "execution_count": null,
   "metadata": {},
   "outputs": [],
   "source": []
  }
 ],
 "metadata": {
  "kernelspec": {
   "display_name": "Python 3",
   "language": "python",
   "name": "python3"
  },
  "language_info": {
   "codemirror_mode": {
    "name": "ipython",
    "version": 3
   },
   "file_extension": ".py",
   "mimetype": "text/x-python",
   "name": "python",
   "nbconvert_exporter": "python",
   "pygments_lexer": "ipython3",
   "version": "3.7.5"
  }
 },
 "nbformat": 4,
 "nbformat_minor": 4
}
