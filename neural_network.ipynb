{
 "cells": [
  {
   "cell_type": "code",
   "execution_count": 9,
   "metadata": {},
   "outputs": [],
   "source": [
    "\n",
    "import numpy as np\n",
    "import pandas as pd\n",
    "import matplotlib.pyplot as plt\n",
    "import csv\n",
    "import warnings\n",
    "np.seterr( over='ignore' )\n",
    "\n",
    "def fxn():\n",
    "    warnings.warn(\"deprecated\", DeprecationWarning)\n",
    "\n",
    "with warnings.catch_warnings():\n",
    "    warnings.simplefilter(\"ignore\")\n",
    "    fxn()\n",
    "\n",
    "class layers:\n",
    "    def __init__(self,neu,r,c):\n",
    "        self.neu=int(neu)\n",
    "        self.wt=np.random.randn(int(r),int(c))*100\n",
    "        self.bias=np.random.randn()\n",
    "\n",
    "class network:\n",
    "    def __init__(self,data_in,data_out,layers_list,l_rate=0.001):\n",
    "        self.xt=np.array(data_in)\n",
    "        self.yt=np.array(data_out)    \n",
    "        self.l=int(len(li))\n",
    "        self.ly=layers_list\n",
    "        self.l_rate= float(l_rate)\n",
    "        try:\n",
    "            self.n=self.xt.shape[1]\n",
    "        except:\n",
    "            self.n=self.xt.shape[0]\n",
    "        self.m=int(self.n/100)\n",
    "        self.x_split=np.array_split(self.xt.T,self.m)\n",
    "        self.y_split=np.array_split(self.yt.T,self.m)\n",
    "     \n",
    "    def sigm(self,x):\n",
    "        \n",
    "        return 1/(1+np.e**-x)\n",
    "\n",
    "\n",
    "    def der_sigm(self,x):\n",
    "        return self.sigm(x)*(1-self.sigm(x))\n",
    "\n",
    "    def forward(self):    \n",
    "        for i in range(self.l):\n",
    "            if i==0:\n",
    "                self.ly[i].z=np.dot(self.ly[i].wt,self.xt) +self.ly[i].bias              \n",
    "            else:\n",
    "                self.ly[i].z=np.dot(self.ly[i].wt,self.ly[i-1].a) + self.ly[i].bias\n",
    "            self.ly[i].a=self.sigm(self.ly[i].z)\n",
    "    \n",
    "    def cost(self):\n",
    "        return np.sum((np.dot(self.yt,np.log(self.ly[-1].a).T))+ np.dot( 1-self.yt,np.log(1-self.ly[-1].a).T ))\n",
    "    \n",
    "    def backprop(self):\n",
    "        for i in range(self.l-1, -1, -1):\n",
    "            if i!=self.l-1:\n",
    "                self.ly[i].error=np.dot(self.ly[i+1].wt.T, self.ly[i+1].error)\n",
    "            else:\n",
    "                self.ly[i].error=(self.ly[i].a-self.yt)*self.ly[i].a*(1-self.ly[i].a)\n",
    "    \n",
    "    def update(self):\n",
    "        for i in range(self.l-1, -1, -1):\n",
    "            if i!=0:\n",
    "                temp= np.dot(self.ly[i].error, self.ly[i-1].a.T)\n",
    "            else:\n",
    "                temp= np.dot(self.ly[i].error,self.xt.T)            \n",
    "            temp_bias= np.mean(self.ly[i].error)\n",
    "            self.ly[i].wt=self.ly[i].wt-temp*self.l_rate\n",
    "            self.ly[i].bias=self.ly[i].bias-temp_bias*self.l_rate\n",
    "\n",
    "    def train(self,epoch):\n",
    "        for j in range(int(epoch)):\n",
    "            self.forward()\n",
    "            self.backprop()\n",
    "            self.update()\n",
    "\n",
    "        \n",
    "\n",
    "    def implement(self,x_data):            # just one sample at a time\n",
    "        x_data=np.array(x_data)/100\n",
    "        l=int(x_data.shape[0])\n",
    "        x_data=np.expand_dims(x_data,0)\n",
    "        x_data=x_data.T\n",
    "        self.xi=x_data\n",
    "        for i in range(self.l):\n",
    "            if i==0:\n",
    "                self.ly[i].z=np.dot(self.ly[i].wt,x_data)+self.ly[i].bias\n",
    "                self.ly[i].a=self.sigm( self.ly[i].z)\n",
    "            else:\n",
    "                self.ly[i].z=np.dot(self.ly[i].wt,self.ly[i-1].a)+self.ly[i].bias\n",
    "                self.ly[i].a=self.sigm(self.ly[i].z)\n",
    "        print(self.ly[-1].a)\n",
    "\n",
    "    def train2(self):\n",
    "        self.forward()\n",
    "        self.backprop()\n",
    "        self.update()\n",
    "        while np.mean(np.abs(self.ly[-1].error))>(0.3):\n",
    "            self.forward()\n",
    "            self.backprop()\n",
    "            self.update()\n",
    "\n",
    "    def forward_cv(self):\n",
    "        for i in range(self.l):\n",
    "            self.ly[i].z_cv=np.empty((self.ly[i].neu,self.xc.shape[1]),dtype=np.float64)\n",
    "            self.ly[i].a_cv=np.empty((self.ly[i].neu,self.xc.shape[1]),dtype=np.float64)\n",
    "\n",
    "        for i in range(self.l):\n",
    "            if i==0:\n",
    "                for j in range(int(self.ly[i].neu)):\n",
    "                    self.ly[i].z_cv[j,:]=np.dot(self.ly[i].wt,self.xc)[j,:] +self.ly[i].bias[j]              \n",
    "            else:\n",
    "                for j in range(int(self.ly[i].neu)):\n",
    "                    self.ly[i].z_cv[j,:]=np.dot(self.ly[i].wt,self.ly[i-1].a_cv)[j,:] + self.ly[i].bias[j]\n",
    "            self.ly[i].a_cv=self.sigm(self.ly[i].z_cv)\n",
    "    def error_cv(self):\n",
    "        return np.mean(np.square(self.yc- self.ly[-1].a_cv))"
   ]
  },
  {
   "cell_type": "code",
   "execution_count": 10,
   "metadata": {},
   "outputs": [],
   "source": [
    "\n",
    "data=pd.read_csv(\"mnist_train_small.csv\",header=None)\n",
    "data.dropna()\n",
    "d=np.array(data)\n",
    "y=d[:,[0]]\n",
    "x=np.delete(d,0,1)/255\n",
    "z=np.eye(10)\n",
    "yy=np.empty((y.shape[0],10),dtype=np.float64)\n",
    "for i in range(y.shape[0]):\n",
    "    for j in range(10):\n",
    "        if y[i]==j:\n",
    "            yy[i,:]=z[j,:]\n",
    "        else:\n",
    "            pass"
   ]
  },
  {
   "cell_type": "code",
   "execution_count": 30,
   "metadata": {},
   "outputs": [],
   "source": [
    "li=[]\n",
    "li.append(layers(10,10,784))\n",
    "li.append(layers(10,10,10))\n",
    "li.append(layers(10,10,10))\n",
    "li.append(layers(10,10,10))\n",
    "li.append(layers(10,10,10))\n",
    "li.append(layers(10,10,10))\n",
    "li.append(layers(10,10,10))\n",
    "li.append(layers(10,10,10))\n",
    "li.append(layers(10,10,10))\n",
    "li.append(layers(10,10,10))\n"
   ]
  },
  {
   "cell_type": "code",
   "execution_count": 12,
   "metadata": {},
   "outputs": [],
   "source": [
    "model=network(x.T,yy.T,li)\n"
   ]
  },
  {
   "cell_type": "code",
   "execution_count": 5,
   "metadata": {},
   "outputs": [],
   "source": [
    "model.forward()"
   ]
  },
  {
   "cell_type": "code",
   "execution_count": null,
   "metadata": {},
   "outputs": [],
   "source": [
    "\n",
    "while np.mean(np.abs(model.ly[-1].error))>=.09:\n",
    "     model.train(50)"
   ]
  },
  {
   "cell_type": "code",
   "execution_count": 13,
   "metadata": {},
   "outputs": [],
   "source": [
    "model.forward()\n",
    "model.backprop()\n",
    "model.update()"
   ]
  },
  {
   "cell_type": "code",
   "execution_count": 14,
   "metadata": {},
   "outputs": [
    {
     "data": {
      "text/plain": [
       "0.006496815727406602"
      ]
     },
     "execution_count": 14,
     "metadata": {},
     "output_type": "execute_result"
    }
   ],
   "source": [
    "np.mean(np.abs(model.ly[-1].error))"
   ]
  },
  {
   "cell_type": "code",
   "execution_count": 17,
   "metadata": {},
   "outputs": [
    {
     "data": {
      "text/plain": [
       "array([[1.42827613e-002, 1.62044884e-034, 1.62044884e-034, ...,\n",
       "        1.62044884e-034, 1.00000000e+000, 1.00000000e+000],\n",
       "       [5.69347505e-151, 8.57059532e-127, 8.57059532e-127, ...,\n",
       "        8.57059532e-127, 2.12318274e-096, 2.12318275e-096],\n",
       "       [1.00000000e+000, 1.00000000e+000, 1.00000000e+000, ...,\n",
       "        1.00000000e+000, 1.00000000e+000, 1.00000000e+000],\n",
       "       ...,\n",
       "       [3.38247321e-065, 3.37800513e-096, 3.37800513e-096, ...,\n",
       "        3.37800513e-096, 1.26044735e-043, 1.26044735e-043],\n",
       "       [1.00000000e+000, 1.00000000e+000, 1.00000000e+000, ...,\n",
       "        1.00000000e+000, 9.97636764e-001, 9.97636764e-001],\n",
       "       [1.73739538e-120, 1.49475031e-010, 1.49475031e-010, ...,\n",
       "        1.49475031e-010, 1.82787728e-095, 1.82787727e-095]])"
      ]
     },
     "execution_count": 17,
     "metadata": {},
     "output_type": "execute_result"
    }
   ],
   "source": [
    "model.ly[-5].a #after training a lot"
   ]
  },
  {
   "cell_type": "code",
   "execution_count": 15,
   "metadata": {},
   "outputs": [
    {
     "data": {
      "text/plain": [
       "0.09437041450903498"
      ]
     },
     "execution_count": 15,
     "metadata": {},
     "output_type": "execute_result"
    }
   ],
   "source": [
    "np.mean(np.abs(model.ly[-1].error))"
   ]
  },
  {
   "cell_type": "code",
   "execution_count": 35,
   "metadata": {},
   "outputs": [],
   "source": [
    "model.forward()"
   ]
  },
  {
   "cell_type": "code",
   "execution_count": 36,
   "metadata": {},
   "outputs": [
    {
     "data": {
      "text/plain": [
       "array([[0.0981 , 0.0981 , 0.0981 , ..., 0.0981 , 0.0981 , 0.0981 ],\n",
       "       [0.11215, 0.11215, 0.11215, ..., 0.11215, 0.11215, 0.11215],\n",
       "       [0.09945, 0.09945, 0.09945, ..., 0.09945, 0.09945, 0.09945],\n",
       "       ...,\n",
       "       [0.1063 , 0.1063 , 0.1063 , ..., 0.1063 , 0.1063 , 0.1063 ],\n",
       "       [0.0956 , 0.0956 , 0.0956 , ..., 0.0956 , 0.0956 , 0.0956 ],\n",
       "       [0.10115, 0.10115, 0.10115, ..., 0.10115, 0.10115, 0.10115]])"
      ]
     },
     "execution_count": 36,
     "metadata": {},
     "output_type": "execute_result"
    }
   ],
   "source": [
    "model.ly[-1].a"
   ]
  },
  {
   "cell_type": "code",
   "execution_count": 27,
   "metadata": {},
   "outputs": [],
   "source": [
    "def new(data):\n",
    "    x= data.shape[0]\n",
    "    for i in range(x):\n",
    "        ind= np.argmax(data[i])\n",
    "        data[i,:]=0\n",
    "        data[i, ind]=1\n",
    "    return data"
   ]
  },
  {
   "cell_type": "code",
   "execution_count": 28,
   "metadata": {},
   "outputs": [],
   "source": [
    "data2=new(model.ly[-1].a.T)"
   ]
  },
  {
   "cell_type": "code",
   "execution_count": 29,
   "metadata": {},
   "outputs": [
    {
     "data": {
      "text/plain": [
       "array([[1., 0., 0., ..., 0., 0., 0.],\n",
       "       [1., 0., 0., ..., 0., 0., 0.],\n",
       "       [1., 0., 0., ..., 0., 0., 0.],\n",
       "       ...,\n",
       "       [1., 0., 0., ..., 0., 0., 0.],\n",
       "       [1., 0., 0., ..., 0., 0., 0.],\n",
       "       [1., 0., 0., ..., 0., 0., 0.]])"
      ]
     },
     "execution_count": 29,
     "metadata": {},
     "output_type": "execute_result"
    }
   ],
   "source": [
    "data2"
   ]
  },
  {
   "cell_type": "code",
   "execution_count": null,
   "metadata": {},
   "outputs": [],
   "source": []
  }
 ],
 "metadata": {
  "kernelspec": {
   "display_name": "Python 3",
   "language": "python",
   "name": "python3"
  },
  "language_info": {
   "codemirror_mode": {
    "name": "ipython",
    "version": 3
   },
   "file_extension": ".py",
   "mimetype": "text/x-python",
   "name": "python",
   "nbconvert_exporter": "python",
   "pygments_lexer": "ipython3",
   "version": "3.7.4"
  }
 },
 "nbformat": 4,
 "nbformat_minor": 4
}
