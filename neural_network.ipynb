{
  "nbformat": 4,
  "nbformat_minor": 0,
  "metadata": {
    "kernelspec": {
      "display_name": "'Python Interactive'",
      "language": "python",
      "name": "45296aa9-596c-4495-9a23-f42d5784744a"
    },
    "language_info": {
      "codemirror_mode": {
        "name": "ipython",
        "version": 3
      },
      "file_extension": ".py",
      "mimetype": "text/x-python",
      "name": "python",
      "nbconvert_exporter": "python",
      "pygments_lexer": "ipython3",
      "version": "3.7.4"
    },
    "colab": {
      "name": "neural_network.ipynb",
      "provenance": [],
      "include_colab_link": true
    },
    "accelerator": "GPU"
  },
  "cells": [
    {
      "cell_type": "markdown",
      "metadata": {
        "id": "view-in-github",
        "colab_type": "text"
      },
      "source": [
        "<a href=\"https://colab.research.google.com/github/pratikb2805/Ml-Library-I/blob/master/neural_network.ipynb\" target=\"_parent\"><img src=\"https://colab.research.google.com/assets/colab-badge.svg\" alt=\"Open In Colab\"/></a>"
      ]
    },
    {
      "cell_type": "code",
      "metadata": {
        "id": "v2qT56yYRTGf",
        "colab_type": "code",
        "colab": {}
      },
      "source": [
        "import numpy as np\n",
        "import pandas as pd\n",
        "import matplotlib.pyplot as plt\n",
        "import csv\n",
        "import warnings\n",
        "warnings.filterwarnings(\"error\")\n",
        "\n",
        "class layers:\n",
        "    def __init__(self,neu,r,c):\n",
        "        self.neu=int(neu)\n",
        "        self.wt=np.random.randn(r,c)\n",
        "        self.a=np.zeros((self.neu,1),dtype=np.float64)\n",
        "        self.z=np.zeros((self.neu,1),dtype=np.float64)\n",
        "        self.error=np.zeros((self.neu,1),dtype=np.float64)\n",
        "        self.temp=np.zeros((r,c),dtype=np.float64)\n",
        "        self.bias=np.random.randn(self.neu)\n",
        "        \n",
        "\n",
        "class network:\n",
        "    def __init__(self,data_in,data_out,layers_list,l_rate=0.05):\n",
        "        self.x=np.array(data_in)\n",
        "        self.y=np.array(data_out)    \n",
        "        xx=np.array_split(self.x.T,2)\n",
        "        self.xt=xx[0].T\n",
        "        self.xc=xx[1].T\n",
        "        yy=np.array_split(self.y.T,2)\n",
        "        self.yt=yy[0].T\n",
        "        self.yc=yy[1].T \n",
        "        self.l=int(len(li))\n",
        "        self.ly=layers_list\n",
        "        self.l_rate= float(l_rate)\n",
        "        try:\n",
        "            self.n=self.xt.shape[1]\n",
        "        except:\n",
        "            self.n=self.xt.shape[0]\n",
        "        self.m=int(self.n/100)\n",
        "        self.x_split=np.array_split(self.xt.T,self.m)\n",
        "        self.y_split=np.array_split(self.yt.T,self.m)\n",
        "     \n",
        "    def sigm(self,x):\n",
        "        try:\n",
        "            return 1/(1+np.e**-x)\n",
        "        except RuntimeWarning:\n",
        "            if x<0:\n",
        "                return 0\n",
        "            elif x>0:\n",
        "                return 1\n",
        "\n",
        "\n",
        "\n",
        "    def der_sigm(self,x):\n",
        "        return sigm(x)/(1-sigm(x))\n",
        "\n",
        "    def forward(self):\n",
        "        for i in range(self.l):\n",
        "            self.ly[i].z=np.empty((self.ly[i].neu,self.xt.shape[1]),dtype=np.float64)\n",
        "            self.ly[i].a=np.empty((self.ly[i].neu,self.xt.shape[1]),dtype=np.float64)\n",
        "\n",
        "        for i in range(self.l):\n",
        "            if i==0:\n",
        "                for j in range(int(self.ly[i].neu)):\n",
        "                    self.ly[i].z[j,:]=np.dot(self.ly[i].wt,self.xt)[j,:] +int(self.ly[i].bias[j])                \n",
        "            else:\n",
        "                for j in range(int(self.ly[i].neu)):\n",
        "                    self.ly[i].z[j,:]=np.dot(self.ly[i].wt,self.ly[i-1].a)[j,:] +int(self.ly[i].bias[j])\n",
        "            self.ly[i].a=self.sigm(self.ly[i].z)\n",
        "    \n",
        "    def cost(self):\n",
        "        return np.sum((np.dot(self.yt,np.log(self.ly[-1].a).T))+ np.dot( 1-self.yt,np.log(1-self.ly[-1].a).T ))\n",
        "    \n",
        "    def backprop(self):\n",
        "        for i in range(self.l-1, -1, -1):\n",
        "            if i!=self.l-1:\n",
        "                self.ly[i].error=np.dot(self.ly[i+1].wt.T, self.ly[i+1].a)\n",
        "            else:\n",
        "                self.ly[i].error=self.ly[i].a-self.yt\n",
        "    \n",
        "    def update(self):\n",
        "        for i in range(self.l-1, -1, -1):\n",
        "            if i!=0:\n",
        "                temp= np.dot(self.ly[i].error,self.ly[i-1].a.T)\n",
        "            else:\n",
        "                temp= np.dot(self.ly[i].error,self.xt.T)            \n",
        "            temp_bias= np.mean(self.ly[i].error, axis=1)\n",
        "            self.ly[i].wt=self.ly[i].wt-temp*self.l_rate\n",
        "            self.ly[i].bias=self.ly[i].bias-np.ndarray.flatten(temp_bias)*self.l_rate\n",
        "\n",
        "    def train(self,epoch):\n",
        "        try:\n",
        "            epoch=int(int(epoch)/self.m)\n",
        "            r=int(self.m)\n",
        "        except:\n",
        "            epoch=int(epoch)\n",
        "            r=int(1)\n",
        "        for i in range(int(epoch)):\n",
        "            for j in range(int(r)):\n",
        "                self.xt=self.x_split[i].T\n",
        "                self.yt=self.y_split[i].T\n",
        "                self.forward()\n",
        "                self.backprop()\n",
        "                self.update()\n",
        "\n",
        "    def implement(self,x_data):            # just one sample at a time\n",
        "        x_data=np.array(x_data)/100\n",
        "        l=int(x_data.shape[0])\n",
        "        x_data=np.expand_dims(x_data,0)\n",
        "        x_data=x_data.T\n",
        "        self.xi=x_data\n",
        "        for i in range(self.l):\n",
        "            if i==0:\n",
        "                self.ly[i].z=np.dot(self.ly[i].wt,x_data)+self.ly[i].bias\n",
        "                self.ly[i].a=self.sigm( self.ly[i].z)\n",
        "            else:\n",
        "                self.ly[i].z=np.dot(self.ly[i].wt,self.ly[i-1].a)+self.ly[i].bias\n",
        "                self.ly[i].a=self.sigm(self.ly[i].z)\n",
        "        print(self.ly[-1].a)\n",
        "\n",
        "\n"
      ],
      "execution_count": 0,
      "outputs": []
    },
    {
      "cell_type": "code",
      "metadata": {
        "id": "3GYWLHPERTGx",
        "colab_type": "code",
        "colab": {}
      },
      "source": [
        "\n",
        "data=pd.read_csv(\"/content/sample_data/mnist_train_small.csv\",header=None)\n",
        "data.dropna()\n",
        "d=np.array(data)\n",
        "y=d[:,[0]]\n",
        "x=np.delete(d,0,1)\n",
        "z=np.eye(10)\n",
        "yy=np.empty((y.shape[0],10),dtype=np.float64)\n",
        "for i in range(y.shape[0]):\n",
        "    for j in range(10):\n",
        "        if y[i]==j:\n",
        "            yy[i,:]=z[j,:]\n",
        "        else:\n",
        "            pass"
      ],
      "execution_count": 0,
      "outputs": []
    },
    {
      "cell_type": "code",
      "metadata": {
        "id": "l1KzejAdRTG6",
        "colab_type": "code",
        "colab": {}
      },
      "source": [
        "li=[]\n",
        "li.append(layers(10,10,784))\n",
        "li.append(layers(10,10,10))\n",
        "li.append(layers(10,10,10))\n",
        "li.append(layers(10,10,10))\n",
        "li.append(layers(10,10,10))\n",
        "li.append(layers(10,10,10))\n"
      ],
      "execution_count": 0,
      "outputs": []
    },
    {
      "cell_type": "code",
      "metadata": {
        "id": "hKADZ6egRTHE",
        "colab_type": "code",
        "colab": {}
      },
      "source": [
        "model=network(x.T,y.T,li)\n"
      ],
      "execution_count": 0,
      "outputs": []
    },
    {
      "cell_type": "code",
      "metadata": {
        "id": "e6VAStxdW70t",
        "colab_type": "code",
        "colab": {}
      },
      "source": [
        "model.forward()\n"
      ],
      "execution_count": 0,
      "outputs": []
    },
    {
      "cell_type": "code",
      "metadata": {
        "id": "7C_JLBooSGG0",
        "colab_type": "code",
        "colab": {}
      },
      "source": [
        "model.update()"
      ],
      "execution_count": 0,
      "outputs": []
    },
    {
      "cell_type": "code",
      "metadata": {
        "id": "lMZ3_hDkRTHa",
        "colab_type": "code",
        "outputId": "8ccf3abd-b448-4eb5-e30d-db5ffc3de6db",
        "colab": {
          "base_uri": "https://localhost:8080/",
          "height": 50
        }
      },
      "source": [
        "model.ly[0].bias"
      ],
      "execution_count": 22,
      "outputs": [
        {
          "output_type": "execute_result",
          "data": {
            "text/plain": [
              "array([-1.82849367, -0.25568843,  0.43743811,  1.82016181,  0.42321279,\n",
              "       -1.35702103, -1.14478266, -1.27944828, -0.69229108, -0.41139356])"
            ]
          },
          "metadata": {
            "tags": []
          },
          "execution_count": 22
        }
      ]
    },
    {
      "cell_type": "code",
      "metadata": {
        "id": "ETpuwjkbRTHv",
        "colab_type": "code",
        "colab": {
          "base_uri": "https://localhost:8080/",
          "height": 421
        },
        "outputId": "a5964895-e738-45e8-e43a-ca24266b19f8"
      },
      "source": [
        "model.train(100)"
      ],
      "execution_count": 40,
      "outputs": [
        {
          "output_type": "error",
          "ename": "ValueError",
          "evalue": "ignored",
          "traceback": [
            "\u001b[0;31m---------------------------------------------------------------------------\u001b[0m",
            "\u001b[0;31mRuntimeWarning\u001b[0m                            Traceback (most recent call last)",
            "\u001b[0;32m<ipython-input-38-842601f3c29a>\u001b[0m in \u001b[0;36msigm\u001b[0;34m(self, x)\u001b[0m\n\u001b[1;32m     41\u001b[0m         \u001b[0;32mtry\u001b[0m\u001b[0;34m:\u001b[0m\u001b[0;34m\u001b[0m\u001b[0;34m\u001b[0m\u001b[0m\n\u001b[0;32m---> 42\u001b[0;31m             \u001b[0;32mreturn\u001b[0m \u001b[0;36m1\u001b[0m\u001b[0;34m/\u001b[0m\u001b[0;34m(\u001b[0m\u001b[0;36m1\u001b[0m\u001b[0;34m+\u001b[0m\u001b[0mnp\u001b[0m\u001b[0;34m.\u001b[0m\u001b[0me\u001b[0m\u001b[0;34m**\u001b[0m\u001b[0;34m-\u001b[0m\u001b[0mx\u001b[0m\u001b[0;34m)\u001b[0m\u001b[0;34m\u001b[0m\u001b[0;34m\u001b[0m\u001b[0m\n\u001b[0m\u001b[1;32m     43\u001b[0m         \u001b[0;32mexcept\u001b[0m \u001b[0mRuntimeWarning\u001b[0m\u001b[0;34m:\u001b[0m\u001b[0;34m\u001b[0m\u001b[0;34m\u001b[0m\u001b[0m\n",
            "\u001b[0;31mRuntimeWarning\u001b[0m: overflow encountered in power",
            "\nDuring handling of the above exception, another exception occurred:\n",
            "\u001b[0;31mValueError\u001b[0m                                Traceback (most recent call last)",
            "\u001b[0;32m<ipython-input-40-874da4d03fa8>\u001b[0m in \u001b[0;36m<module>\u001b[0;34m()\u001b[0m\n\u001b[0;32m----> 1\u001b[0;31m \u001b[0mmodel\u001b[0m\u001b[0;34m.\u001b[0m\u001b[0mtrain\u001b[0m\u001b[0;34m(\u001b[0m\u001b[0;36m100\u001b[0m\u001b[0;34m)\u001b[0m\u001b[0;34m\u001b[0m\u001b[0;34m\u001b[0m\u001b[0m\n\u001b[0m",
            "\u001b[0;32m<ipython-input-38-842601f3c29a>\u001b[0m in \u001b[0;36mtrain\u001b[0;34m(self, epoch)\u001b[0m\n\u001b[1;32m     97\u001b[0m                 \u001b[0mself\u001b[0m\u001b[0;34m.\u001b[0m\u001b[0mxt\u001b[0m\u001b[0;34m=\u001b[0m\u001b[0mself\u001b[0m\u001b[0;34m.\u001b[0m\u001b[0mx_split\u001b[0m\u001b[0;34m[\u001b[0m\u001b[0mi\u001b[0m\u001b[0;34m]\u001b[0m\u001b[0;34m.\u001b[0m\u001b[0mT\u001b[0m\u001b[0;34m\u001b[0m\u001b[0;34m\u001b[0m\u001b[0m\n\u001b[1;32m     98\u001b[0m                 \u001b[0mself\u001b[0m\u001b[0;34m.\u001b[0m\u001b[0myt\u001b[0m\u001b[0;34m=\u001b[0m\u001b[0mself\u001b[0m\u001b[0;34m.\u001b[0m\u001b[0my_split\u001b[0m\u001b[0;34m[\u001b[0m\u001b[0mi\u001b[0m\u001b[0;34m]\u001b[0m\u001b[0;34m.\u001b[0m\u001b[0mT\u001b[0m\u001b[0;34m\u001b[0m\u001b[0;34m\u001b[0m\u001b[0m\n\u001b[0;32m---> 99\u001b[0;31m                 \u001b[0mself\u001b[0m\u001b[0;34m.\u001b[0m\u001b[0mforward\u001b[0m\u001b[0;34m(\u001b[0m\u001b[0;34m)\u001b[0m\u001b[0;34m\u001b[0m\u001b[0;34m\u001b[0m\u001b[0m\n\u001b[0m\u001b[1;32m    100\u001b[0m                 \u001b[0mself\u001b[0m\u001b[0;34m.\u001b[0m\u001b[0mbackprop\u001b[0m\u001b[0;34m(\u001b[0m\u001b[0;34m)\u001b[0m\u001b[0;34m\u001b[0m\u001b[0;34m\u001b[0m\u001b[0m\n\u001b[1;32m    101\u001b[0m                 \u001b[0mself\u001b[0m\u001b[0;34m.\u001b[0m\u001b[0mupdate\u001b[0m\u001b[0;34m(\u001b[0m\u001b[0;34m)\u001b[0m\u001b[0;34m\u001b[0m\u001b[0;34m\u001b[0m\u001b[0m\n",
            "\u001b[0;32m<ipython-input-38-842601f3c29a>\u001b[0m in \u001b[0;36mforward\u001b[0;34m(self)\u001b[0m\n\u001b[1;32m     64\u001b[0m                 \u001b[0;32mfor\u001b[0m \u001b[0mj\u001b[0m \u001b[0;32min\u001b[0m \u001b[0mrange\u001b[0m\u001b[0;34m(\u001b[0m\u001b[0mint\u001b[0m\u001b[0;34m(\u001b[0m\u001b[0mself\u001b[0m\u001b[0;34m.\u001b[0m\u001b[0mly\u001b[0m\u001b[0;34m[\u001b[0m\u001b[0mi\u001b[0m\u001b[0;34m]\u001b[0m\u001b[0;34m.\u001b[0m\u001b[0mneu\u001b[0m\u001b[0;34m)\u001b[0m\u001b[0;34m)\u001b[0m\u001b[0;34m:\u001b[0m\u001b[0;34m\u001b[0m\u001b[0;34m\u001b[0m\u001b[0m\n\u001b[1;32m     65\u001b[0m                     \u001b[0mself\u001b[0m\u001b[0;34m.\u001b[0m\u001b[0mly\u001b[0m\u001b[0;34m[\u001b[0m\u001b[0mi\u001b[0m\u001b[0;34m]\u001b[0m\u001b[0;34m.\u001b[0m\u001b[0mz\u001b[0m\u001b[0;34m[\u001b[0m\u001b[0mj\u001b[0m\u001b[0;34m,\u001b[0m\u001b[0;34m:\u001b[0m\u001b[0;34m]\u001b[0m\u001b[0;34m=\u001b[0m\u001b[0mnp\u001b[0m\u001b[0;34m.\u001b[0m\u001b[0mdot\u001b[0m\u001b[0;34m(\u001b[0m\u001b[0mself\u001b[0m\u001b[0;34m.\u001b[0m\u001b[0mly\u001b[0m\u001b[0;34m[\u001b[0m\u001b[0mi\u001b[0m\u001b[0;34m]\u001b[0m\u001b[0;34m.\u001b[0m\u001b[0mwt\u001b[0m\u001b[0;34m,\u001b[0m\u001b[0mself\u001b[0m\u001b[0;34m.\u001b[0m\u001b[0mly\u001b[0m\u001b[0;34m[\u001b[0m\u001b[0mi\u001b[0m\u001b[0;34m-\u001b[0m\u001b[0;36m1\u001b[0m\u001b[0;34m]\u001b[0m\u001b[0;34m.\u001b[0m\u001b[0ma\u001b[0m\u001b[0;34m)\u001b[0m\u001b[0;34m[\u001b[0m\u001b[0mj\u001b[0m\u001b[0;34m,\u001b[0m\u001b[0;34m:\u001b[0m\u001b[0;34m]\u001b[0m \u001b[0;34m+\u001b[0m\u001b[0mint\u001b[0m\u001b[0;34m(\u001b[0m\u001b[0mself\u001b[0m\u001b[0;34m.\u001b[0m\u001b[0mly\u001b[0m\u001b[0;34m[\u001b[0m\u001b[0mi\u001b[0m\u001b[0;34m]\u001b[0m\u001b[0;34m.\u001b[0m\u001b[0mbias\u001b[0m\u001b[0;34m[\u001b[0m\u001b[0mj\u001b[0m\u001b[0;34m]\u001b[0m\u001b[0;34m)\u001b[0m\u001b[0;34m\u001b[0m\u001b[0;34m\u001b[0m\u001b[0m\n\u001b[0;32m---> 66\u001b[0;31m             \u001b[0mself\u001b[0m\u001b[0;34m.\u001b[0m\u001b[0mly\u001b[0m\u001b[0;34m[\u001b[0m\u001b[0mi\u001b[0m\u001b[0;34m]\u001b[0m\u001b[0;34m.\u001b[0m\u001b[0ma\u001b[0m\u001b[0;34m=\u001b[0m\u001b[0mself\u001b[0m\u001b[0;34m.\u001b[0m\u001b[0msigm\u001b[0m\u001b[0;34m(\u001b[0m\u001b[0mself\u001b[0m\u001b[0;34m.\u001b[0m\u001b[0mly\u001b[0m\u001b[0;34m[\u001b[0m\u001b[0mi\u001b[0m\u001b[0;34m]\u001b[0m\u001b[0;34m.\u001b[0m\u001b[0mz\u001b[0m\u001b[0;34m)\u001b[0m\u001b[0;34m\u001b[0m\u001b[0;34m\u001b[0m\u001b[0m\n\u001b[0m\u001b[1;32m     67\u001b[0m \u001b[0;34m\u001b[0m\u001b[0m\n\u001b[1;32m     68\u001b[0m     \u001b[0;32mdef\u001b[0m \u001b[0mcost\u001b[0m\u001b[0;34m(\u001b[0m\u001b[0mself\u001b[0m\u001b[0;34m)\u001b[0m\u001b[0;34m:\u001b[0m\u001b[0;34m\u001b[0m\u001b[0;34m\u001b[0m\u001b[0m\n",
            "\u001b[0;32m<ipython-input-38-842601f3c29a>\u001b[0m in \u001b[0;36msigm\u001b[0;34m(self, x)\u001b[0m\n\u001b[1;32m     42\u001b[0m             \u001b[0;32mreturn\u001b[0m \u001b[0;36m1\u001b[0m\u001b[0;34m/\u001b[0m\u001b[0;34m(\u001b[0m\u001b[0;36m1\u001b[0m\u001b[0;34m+\u001b[0m\u001b[0mnp\u001b[0m\u001b[0;34m.\u001b[0m\u001b[0me\u001b[0m\u001b[0;34m**\u001b[0m\u001b[0;34m-\u001b[0m\u001b[0mx\u001b[0m\u001b[0;34m)\u001b[0m\u001b[0;34m\u001b[0m\u001b[0;34m\u001b[0m\u001b[0m\n\u001b[1;32m     43\u001b[0m         \u001b[0;32mexcept\u001b[0m \u001b[0mRuntimeWarning\u001b[0m\u001b[0;34m:\u001b[0m\u001b[0;34m\u001b[0m\u001b[0;34m\u001b[0m\u001b[0m\n\u001b[0;32m---> 44\u001b[0;31m             \u001b[0;32mif\u001b[0m \u001b[0mx\u001b[0m\u001b[0;34m<\u001b[0m\u001b[0;36m0\u001b[0m\u001b[0;34m:\u001b[0m\u001b[0;34m\u001b[0m\u001b[0;34m\u001b[0m\u001b[0m\n\u001b[0m\u001b[1;32m     45\u001b[0m                 \u001b[0;32mreturn\u001b[0m \u001b[0;36m0\u001b[0m\u001b[0;34m\u001b[0m\u001b[0;34m\u001b[0m\u001b[0m\n\u001b[1;32m     46\u001b[0m             \u001b[0;32melif\u001b[0m \u001b[0mx\u001b[0m\u001b[0;34m>\u001b[0m\u001b[0;36m0\u001b[0m\u001b[0;34m:\u001b[0m\u001b[0;34m\u001b[0m\u001b[0;34m\u001b[0m\u001b[0m\n",
            "\u001b[0;31mValueError\u001b[0m: The truth value of an array with more than one element is ambiguous. Use a.any() or a.all()"
          ]
        }
      ]
    },
    {
      "cell_type": "code",
      "metadata": {
        "id": "YBdu-gdqxNcc",
        "colab_type": "code",
        "colab": {}
      },
      "source": [
        ""
      ],
      "execution_count": 0,
      "outputs": []
    }
  ]
}