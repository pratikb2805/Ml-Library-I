{
 "cells": [
  {
   "cell_type": "code",
   "execution_count": 42,
   "metadata": {},
   "outputs": [],
   "source": [
    "import matplotlib.pyplot as plt\n",
    "import numpy as np\n",
    "\n",
    "\n",
    "class LinReg:\n",
    "    def __init__(self, data_in, data_out, lamb=0, l_rate=.01):  # For pre-processing data.\n",
    "        self.x = np.array(data_in, dtype=np.float64)  # data_in=training input,\n",
    "        self.y = np.array(data_out, dtype=np.float64)  # data_out=training output\n",
    "        self.m = int(data_in.shape[0])  # No. of training exapmles\n",
    "        self.lamb = int(lamb)\n",
    "        try:\n",
    "            self.col1 = int(data_in.shape[1])  # No. of features plus bias\n",
    "        except IndexError:\n",
    "            self.col1 = 1  # For one feature training set\n",
    "        self.x = np.transpose(self.x)\n",
    "        self.y = np.reshape(self.y, (1, self.m))\n",
    "        self.wt = np.zeros((1,self.col1), dtype=float)  # defining weights matrix OR array\n",
    "        self.temp = np.empty((1,self.col1), dtype=np.float64)\n",
    "        self.x=np.ndarray.flatten(self.x)\n",
    "        self.x=np.reshape(self.x,(self.col1,self.m))\n",
    "        \n",
    "        \n",
    "        try:\n",
    "            self.xs = np.array_split(self.x, 2, axis=1)\n",
    "        except:\n",
    "            self.xs = np.array_split(self.x, 2)\n",
    "\n",
    "        self.ys = np.array_split(self.y, 2,axis=1)\n",
    "        self.x = np.array(self.xs[0])\n",
    "        self.xcv = np.array(self.xs[1])\n",
    "        self.y = np.array(self.ys[0])\n",
    "        self.ycv = np.array(self.ys[1])\n",
    "        self.bias = 0.00\n",
    "        self.l_rate = float(l_rate)\n",
    "\n",
    "    def y_pred(self):  # prediction of output\n",
    "        return np.dot(self.wt, self.x) + self.bias\n",
    "\n",
    "    def y_cost(self):  # cost function\n",
    "        m = self.lamb / (2 * self.m)\n",
    "        rss = np.zeros(self.col1, dtype=np.float64)\n",
    "        rss = self.y - self.y_pred()\n",
    "        rss = np.sum(np.square(rss))+ np.sum(np.square(self.wt)) * m + (self.bias ** 2) * m\n",
    "        return np.mean(rss)\n",
    "\n",
    "    def update(self):  # gradient descent\n",
    "        self.temp = np.zeros(self.col1, dtype=np.float64)\n",
    "        self.temp = np.dot((self.y_pred() - self.y), self.x.T) / self.m + self.lamb * np.sum(self.wt) / self.m\n",
    "        self.wt = self.wt - self.l_rate * self.temp\n",
    "        self.bias -= np.sum(self.y_pred() - self.y) * self.l_rate / self.m\n",
    "\n",
    "    def train(self, epoch=1000):  # model training function with traditional..\n",
    "        for j in range(int(epoch)):  # gradient descent\n",
    "            self.y_pred()\n",
    "            self.y_cost()\n",
    "            self.update()\n",
    "            self.wt0=self.wt\n",
    "        return self.wt\n",
    "\n",
    "    def batch_train(self, epoch):  # model training function with batch ...\n",
    "        n = int(self.m / 50) + 1  # gradient descent\n",
    "\n",
    "        try:\n",
    "            self.x_split = np.array_split(self.x, n, axis=1)\n",
    "        except:\n",
    "            self.x_split=np.array_split(self.x,n)\n",
    "        try:\n",
    "            self.y_split = np.array_split(self.y, n, axis=1)\n",
    "        except:\n",
    "            self.y_split = np.array_split(self.y, n)\n",
    "        for j in range(epoch):\n",
    "            for i in range(n):\n",
    "                self.x = np.array(self.x_split[i])\n",
    "                self.y = np.array(self.y_split[i])\n",
    "                self.train(10)\n",
    "\n",
    "    def model_accu_vs_epoch(self,ll,ul,step):  # Plot showing accuracy of model vs epoch attained for taraining\n",
    "        self.wt= np.zeros((1,self.col1), dtype=float)\n",
    "        self.bias=0.00\n",
    "        epoch = np.arange(int(ll), int(ul), int(step))\n",
    "        accu = np.zeros(epoch.shape[0], dtype=float)\n",
    "        for i in range(epoch.shape[0]):\n",
    "            self.train(epoch[i])\n",
    "            accu[i] = 100 - np.mean(np.abs(self.y_pred() - self.y) // np.abs(self.y)) * 100\n",
    "        plt.xlabel = 'Epoch'\n",
    "        plt.ylabel = 'Accuracy'\n",
    "        plt.plot(epoch, accu)\n",
    "\n",
    "    def test(self, test_data_in, test_data_out):\n",
    "        self.x_test = np.array(test_data_in)\n",
    "        m2 = int(self.x_test.shape[0])\n",
    "        self.y_test = np.array(test_data_out)\n",
    "        self.y_test = np.reshape(self.y_test, (m2, 1))\n",
    "        self.x_test = self.x_test.T\n",
    "\n",
    "    def y_pred_test(self):\n",
    "        return np.dot(self.wt, self.x_test) + self.bias\n",
    "\n",
    "    def model_accu_test(self):\n",
    "        cost = np.sum(np.square(self.y_test - self.y_pred_test()) // self.y_test)\n",
    "        accu = np.mean(np.sqrt(cost) // self.m) * 100 * (-1) + 100\n",
    "        print(\"The above model has \", accu, \"% accuracy\")\n",
    "        return accu\n",
    "\n",
    "    def cost_cv(self):  # cross-validation cost\n",
    "        y = np.dot(self.wt, self.xcv)\n",
    "        cost = np.mean(np.square(y - self.ycv))\n",
    "        return cost\n",
    "\n",
    "    def predict1(self, x):\n",
    "        x = np.array(x)\n",
    "        m=x.shape[0]\n",
    "        x=np.reshape(x,(m,1))\n",
    "        return np.dot(self.wt, x)"
   ]
  },
  {
   "cell_type": "code",
   "execution_count": 56,
   "metadata": {},
   "outputs": [],
   "source": [
    "x=np.arange(1000).reshape(100,10)/100\n",
    "y=np.arange(100)/10"
   ]
  },
  {
   "cell_type": "code",
   "execution_count": 57,
   "metadata": {},
   "outputs": [],
   "source": [
    "d=LinReg(x,y)"
   ]
  },
  {
   "cell_type": "code",
   "execution_count": 51,
   "metadata": {},
   "outputs": [
    {
     "data": {
      "text/plain": [
       "[array([[ 0.,  1.,  2.,  3.,  4.,  5.,  6.,  7.,  8.,  9., 10., 11., 12.,\n",
       "         13., 14., 15., 16., 17., 18., 19., 20., 21., 22., 23., 24., 25.,\n",
       "         26., 27., 28., 29., 30., 31., 32., 33., 34., 35., 36., 37., 38.,\n",
       "         39., 40., 41., 42., 43., 44., 45., 46., 47., 48., 49.]]),\n",
       " array([[50., 51., 52., 53., 54., 55., 56., 57., 58., 59., 60., 61., 62.,\n",
       "         63., 64., 65., 66., 67., 68., 69., 70., 71., 72., 73., 74., 75.,\n",
       "         76., 77., 78., 79., 80., 81., 82., 83., 84., 85., 86., 87., 88.,\n",
       "         89., 90., 91., 92., 93., 94., 95., 96., 97., 98., 99.]])]"
      ]
     },
     "execution_count": 51,
     "metadata": {},
     "output_type": "execute_result"
    }
   ],
   "source": [
    "d.ys"
   ]
  },
  {
   "cell_type": "code",
   "execution_count": 58,
   "metadata": {},
   "outputs": [
    {
     "data": {
      "text/plain": [
       "array([[0.09707241, 0.09732996, 0.0975875 , 0.09784505, 0.09810259,\n",
       "        0.09836014, 0.09861768, 0.09887523, 0.09913277, 0.09939032]])"
      ]
     },
     "execution_count": 58,
     "metadata": {},
     "output_type": "execute_result"
    }
   ],
   "source": [
    "d.train(50)\n"
   ]
  },
  {
   "cell_type": "code",
   "execution_count": 62,
   "metadata": {},
   "outputs": [
    {
     "name": "stderr",
     "output_type": "stream",
     "text": [
      "C:\\Users\\Pratik  Bedre\\Anaconda3\\lib\\site-packages\\ipykernel_launcher.py:84: RuntimeWarning: invalid value encountered in floor_divide\n"
     ]
    },
    {
     "data": {
      "image/png": "[encoded data removed]",
      "text/plain": [
       "<Figure size 432x288 with 1 Axes>"
      ]
     },
     "metadata": {
      "needs_background": "light"
     },
     "output_type": "display_data"
    }
   ],
   "source": [
    "d.model_accu_vs_epoch(1,10,1)"
   ]
  },
  {
   "cell_type": "code",
   "execution_count": null,
   "metadata": {},
   "outputs": [],
   "source": []
  }
 ],
 "metadata": {
  "kernelspec": {
   "display_name": "'Python Interactive'",
   "language": "python",
   "name": "45296aa9-596c-4495-9a23-f42d5784744a"
  },
  "language_info": {
   "codemirror_mode": {
    "name": "ipython",
    "version": 3
   },
   "file_extension": ".py",
   "mimetype": "text/x-python",
   "name": "python",
   "nbconvert_exporter": "python",
   "pygments_lexer": "ipython3",
   "version": "3.7.4"
  }
 },
 "nbformat": 4,
 "nbformat_minor": 2
}
